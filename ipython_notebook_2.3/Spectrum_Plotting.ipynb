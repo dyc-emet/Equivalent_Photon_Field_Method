{
 "metadata": {
  "name": "",
  "signature": "sha256:6f969940c9cb67be8a363cda00256462d59e071bcf7176a4dc112e8e85ab1f04"
 },
 "nbformat": 3,
 "nbformat_minor": 0,
 "worksheets": [
  {
   "cells": [
    {
     "cell_type": "code",
     "collapsed": false,
     "input": [
      "from sympy import *"
     ],
     "language": "python",
     "metadata": {},
     "outputs": [],
     "prompt_number": 2
    },
    {
     "cell_type": "code",
     "collapsed": false,
     "input": [
      "from sympy.matrices import Matrix"
     ],
     "language": "python",
     "metadata": {},
     "outputs": [],
     "prompt_number": 3
    },
    {
     "cell_type": "code",
     "collapsed": false,
     "input": [
      "init_printing()"
     ],
     "language": "python",
     "metadata": {},
     "outputs": [],
     "prompt_number": 4
    },
    {
     "cell_type": "code",
     "collapsed": false,
     "input": [
      "trans_amp = lambda epsilon_in, epsilon_out: r_e * epsilon_in.dot(epsilon_out)"
     ],
     "language": "python",
     "metadata": {},
     "outputs": [],
     "prompt_number": 1
    },
    {
     "cell_type": "code",
     "collapsed": false,
     "input": [
      "omega = var('omega')\n",
      "t = var('t')\n",
      "x = var('x')\n",
      "y = var('y')\n",
      "vector_r = lambda: Matrix([[x, y, 0]])\n",
      "\n",
      "Theta = var('Theta')  #Theta is the angle between the direction vector and its projection on xOy plane\n",
      "phi = var('phi')#phi denote the angle between the projection mentioned above and the direction of +x axis, which is also the direction of the speed\n",
      "Theta_prime = var('Theta_prime')\n",
      "phi_prime = var('phi_prime')\n",
      "\n",
      "psi = var('psi')\n",
      "theta = var('theta')\n",
      "psi_prime = var('psi_prime')\n",
      "theta_prime = var('theta_prime')\n",
      "\n",
      "cos_theta = lambda : cos(theta)\n",
      "sin_theta = lambda : sin(theta)\n",
      "cos_psi = lambda : cos(psi)\n",
      "sin_psi = lambda : sin(psi)\n",
      "cos_theta_prime = lambda : cos(theta_prime)\n",
      "sin_theta_prime = lambda : sin(theta_prime)\n",
      "cos_psi_prime = lambda : cos(psi_prime)\n",
      "sin_psi_prime = lambda : sin(psi_prime)\n",
      "c = var('c')  #light speed\n",
      "B = var('B')  #the strength of magnetic field during the period in which the particle passes through the segment\n",
      "beta = var('beta')\n",
      "v = lambda : beta * c  #the speed of the particle during the period\n",
      "gamma = var('gamma', positive = True)\n",
      "#func_gamma = lambda : gamma\n",
      "E_prime = var('E_prime')  #the strength of electric field in the S' frame\n",
      "#func_E_prime = lambda : E_prime\n",
      "B_prime = var('B_prime')\n",
      "#func_B_prime = lambda : B_prime\n",
      "vector_epsilon_prime_in = Matrix([[S(0), -S(1), S(0)]])\n",
      "#in S frame\n",
      "def vector_n():\n",
      "    return Matrix([[cos_theta(), sin_theta() * cos_psi(), sin_theta() * sin_psi()]])  #the vector of observor's direction\n",
      "def vector_epsilon_out_1():\n",
      "    return Matrix([[-sin_theta() * sin_psi() * cos_theta() / sqrt(S(1) - sin_theta()**2 * sin_psi()**2), -sin_theta() * sin_psi() * sin_theta() * cos_psi() / sqrt(S(1) - sin_theta()**2 * sin_psi()**2), sqrt(1 - sin_theta()**2 * sin_psi()**2)]]) #the out vector which lies in the xOy plane\n",
      "def vector_epsilon_out_2():\n",
      "    return vector_epsilon_out_1().cross(vector_n()) #the other out vector\n",
      "#in S' frame\n",
      "def vector_n_prime():\n",
      "    return Matrix([[cos_theta_prime(), sin_theta_prime() * cos_psi_prime(), sin_theta_prime() * sin_psi_prime()]])\n",
      "def vector_epsilon_prime_out_1():\n",
      "    return Matrix([[-sin_theta_prime() * sin_psi_prime() * cos_theta_prime() / sqrt(S(1) - sin_theta_prime()**2 * sin_psi_prime()**2), -sin_theta_prime() * sin_psi_prime() * sin_theta_prime() * cos_psi_prime() / sqrt(S(1) - sin_theta_prime()**2 * sin_psi_prime()**2), sqrt(S(1) - sin_theta_prime()**2 * sin_psi_prime()**2)]]) #the out vector which lies in the xOy plane\n",
      "def vector_epsilon_prime_out_2():\n",
      "    return vector_epsilon_prime_out_1().cross(vector_n_prime())\n",
      "r_e = var('r_e')  #classical electron radius\n",
      "def E_prime_out_1():\n",
      "    return E_prime * trans_amp(vector_epsilon_prime_in, vector_epsilon_prime_out_1())\n",
      "def E_prime_out_2():\n",
      "    return E_prime * trans_amp(vector_epsilon_prime_in, vector_epsilon_prime_out_2())\n",
      "def vector_E_prime_out():\n",
      "    return E_prime_out_1() * vector_epsilon_prime_out_1() + E_prime_out_2() * vector_epsilon_prime_out_2()\n",
      "def vector_B_prime_out():\n",
      "    return S(1) / c * vector_n_prime().cross(vector_E_prime_out())\n",
      "vector_x = Matrix([[S(1), S(0), S(0)]])\n",
      "def vector_E_out():\n",
      "    return gamma * (vector_E_prime_out() - v() * vector_x.cross(vector_B_prime_out())) - (gamma - 1) * vector_E_prime_out().dot(vector_x) * vector_x\n",
      "def factor_vector(vector_instance):\n",
      "    return Matrix([[factor(vector_instance[i]) for i in range(len(vector_instance))]])"
     ],
     "language": "python",
     "metadata": {},
     "outputs": [],
     "prompt_number": 45
    },
    {
     "cell_type": "code",
     "collapsed": false,
     "input": [
      "cos_theta = lambda : cos(Theta) * cos(phi)\n",
      "sin_theta = lambda : sqrt(S(1) - cos_theta()**2)\n",
      "cos_psi = lambda : cos(Theta) * sin(phi) / sin_theta()\n",
      "sin_psi = lambda : sqrt(S(1) - cos_psi()**2)\n",
      "sin_theta_prime = lambda : sin_theta() / (gamma * (S(1) - beta * cos_theta()))\n",
      "cos_theta_prime = lambda : (cos_theta() - beta) / (S(1) - beta * cos_theta())\n",
      "sin_psi_prime = lambda : sin_psi()\n",
      "cos_psi_prime = lambda : cos_psi()\n",
      "#sin_phi_prime = lambda : sin_theta_prime() * cos_psi_prime() / sqrt(1 - sin_theta_prime()^2 * sin_psi_prime()^2)\n",
      "#cos_phi_prime = lambda : sqrt(1 - sin_phi_prime()^2)\n",
      "#sin_Theta_prime = lambda : sin_theta_prime() * sin_psi_prime()\n",
      "#cos_Theta_prime = lambda : sqrt(1 - sin_Theta_prime()^2)\n",
      "gamma = S(1) / sqrt(S(1) - beta ** 2)"
     ],
     "language": "python",
     "metadata": {},
     "outputs": [],
     "prompt_number": 46
    },
    {
     "cell_type": "code",
     "collapsed": false,
     "input": [
      "vector_n_S = lambda: Matrix([[cos(Theta), S(0), sin(Theta)]])"
     ],
     "language": "python",
     "metadata": {},
     "outputs": [],
     "prompt_number": 47
    },
    {
     "cell_type": "code",
     "collapsed": false,
     "input": [
      "Integral(factor(vector_E_out()[1]) * exp(I * omega * (t - vector_n_S().dot(vector_r()) / c)) * gamma, (t, -oo, oo))"
     ],
     "language": "python",
     "metadata": {},
     "outputs": [
      {
       "latex": [
        "$$\\int_{-\\infty}^{\\infty} - \\frac{E_{prime} r_{e} \\left(\\beta - 1\\right) \\left(\\beta + 1\\right) \\left(\\beta \\cos{\\left (\\Theta \\right )} \\cos{\\left (\\phi \\right )} + \\sin^{2}{\\left (\\phi \\right )} \\cos^{2}{\\left (\\Theta \\right )} - 1\\right) e^{i \\omega \\left(t - \\frac{x}{c} \\cos{\\left (\\Theta \\right )}\\right)}}{\\sqrt{- \\left(\\beta - 1\\right) \\left(\\beta + 1\\right)} \\sqrt{- \\beta^{2} + 1} \\left(\\beta \\cos{\\left (\\Theta \\right )} \\cos{\\left (\\phi \\right )} - 1\\right)^{2}}\\, dt$$"
       ],
       "metadata": {},
       "output_type": "pyout",
       "png": "[encoded data removed]",
       "prompt_number": 48,
       "text": [
        "\u221e                                                                             \n",
        "\u2320                                                                             \n",
        "\u23ae                                                                           \u239b \n",
        "\u23ae                                                                       \u2148\u22c5\u03c9\u22c5\u239ct\n",
        "\u23ae                              \u239b                     2       2       \u239e      \u239d \n",
        "\u23ae  -E_prime\u22c5r\u2091\u22c5(\u03b2 - 1)\u22c5(\u03b2 + 1)\u22c5\u239d\u03b2\u22c5cos(\u0398)\u22c5cos(\u03c6) + sin (\u03c6)\u22c5cos (\u0398) - 1\u23a0\u22c5\u212f      \n",
        "\u23ae  \u2500\u2500\u2500\u2500\u2500\u2500\u2500\u2500\u2500\u2500\u2500\u2500\u2500\u2500\u2500\u2500\u2500\u2500\u2500\u2500\u2500\u2500\u2500\u2500\u2500\u2500\u2500\u2500\u2500\u2500\u2500\u2500\u2500\u2500\u2500\u2500\u2500\u2500\u2500\u2500\u2500\u2500\u2500\u2500\u2500\u2500\u2500\u2500\u2500\u2500\u2500\u2500\u2500\u2500\u2500\u2500\u2500\u2500\u2500\u2500\u2500\u2500\u2500\u2500\u2500\u2500\u2500\u2500\u2500\u2500\u2500\u2500\u2500\u2500\u2500\n",
        "\u23ae                                         __________                          \n",
        "\u23ae                   __________________   \u2571    2                           2   \n",
        "\u23ae                 \u2572\u2571 -(\u03b2 - 1)\u22c5(\u03b2 + 1) \u22c5\u2572\u2571  - \u03b2  + 1 \u22c5(\u03b2\u22c5cos(\u0398)\u22c5cos(\u03c6) - 1)    \n",
        "\u2321                                                                             \n",
        "-\u221e                                                                            \n",
        "\n",
        "                \n",
        "                \n",
        "   x\u22c5cos(\u0398)\u239e    \n",
        " - \u2500\u2500\u2500\u2500\u2500\u2500\u2500\u2500\u239f    \n",
        "      c    \u23a0    \n",
        "                \n",
        "\u2500\u2500\u2500\u2500\u2500\u2500\u2500\u2500\u2500\u2500\u2500\u2500\u2500 dt\n",
        "                \n",
        "                \n",
        "                \n",
        "                \n",
        "                "
       ]
      }
     ],
     "prompt_number": 48
    },
    {
     "cell_type": "code",
     "collapsed": false,
     "input": [],
     "language": "python",
     "metadata": {},
     "outputs": []
    }
   ],
   "metadata": {}
  }
 ]
}