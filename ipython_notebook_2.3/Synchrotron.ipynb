{
 "metadata": {
  "name": "",
  "signature": "sha256:18760b30161a64550cff14290a1c09b4a73d07a421ef0a4e58f31c505b3dc789"
 },
 "nbformat": 3,
 "nbformat_minor": 0,
 "worksheets": [
  {
   "cells": [
    {
     "cell_type": "code",
     "collapsed": false,
     "input": [
      "from sympy import *"
     ],
     "language": "python",
     "metadata": {},
     "outputs": [],
     "prompt_number": 1
    },
    {
     "cell_type": "code",
     "collapsed": false,
     "input": [
      "from sympy.matrices import Matrix"
     ],
     "language": "python",
     "metadata": {},
     "outputs": [],
     "prompt_number": 2
    },
    {
     "cell_type": "code",
     "collapsed": false,
     "input": [
      "init_printing()"
     ],
     "language": "python",
     "metadata": {},
     "outputs": [],
     "prompt_number": 3
    },
    {
     "cell_type": "markdown",
     "metadata": {},
     "source": [
      "#######################################################################################################################\n",
      "#In this worksheet, we represent the dependency of different variables with functions.                                #\n",
      "#Thus, when one variable changes, those depending on it will be changed simultaneously.                               #\n",
      "#However, the disadvantage is that the method slow down the speed of calculation obviously.                           #\n",
      "#######################################################################################################################"
     ]
    },
    {
     "cell_type": "code",
     "collapsed": false,
     "input": [
      "#In the first section, all variables are symbols. The transformation and relationship are ignored\n",
      "Theta = var('Theta')  #Theta is the angle between the direction vector and its projection on xOy plane\n",
      "phi = var('phi')#phi denote the angle between the projection mentioned above and the direction of +x axis, which is also the direction of the speed\n",
      "Theta_prime = var('Theta_prime')\n",
      "phi_prime = var('phi_prime')\n",
      "\n",
      "psi = var('psi')\n",
      "theta = var('theta')\n",
      "psi_prime = var('psi_prime')\n",
      "theta_prime = var('theta_prime')\n",
      "\n",
      "cos_theta = lambda : cos(theta)\n",
      "sin_theta = lambda : sin(theta)\n",
      "cos_psi = lambda : cos(psi)\n",
      "sin_psi = lambda : sin(psi)\n",
      "cos_theta_prime = lambda : cos(theta_prime)\n",
      "sin_theta_prime = lambda : sin(theta_prime)\n",
      "cos_psi_prime = lambda : cos(psi_prime)\n",
      "sin_psi_prime = lambda : sin(psi_prime)\n",
      "c = var('c')  #light speed\n",
      "B = var('B')  #the strength of magnetic field during the period in which the particle passes through the segment\n",
      "beta = var('beta')\n",
      "v = lambda : beta * c  #the speed of the particle during the period\n",
      "gamma = var('gamma')\n",
      "#func_gamma = lambda : gamma\n",
      "E_prime = var('E_prime')  #the strength of electric field in the S' frame\n",
      "#func_E_prime = lambda : E_prime\n",
      "B_prime = var('B_prime')\n",
      "#func_B_prime = lambda : B_prime\n",
      "vector_epsilon_prime_in = Matrix([[S(0), -S(1), S(0)]])\n",
      "#in S frame\n",
      "def vector_n():\n",
      "    return Matrix([[cos_theta(), sin_theta() * cos_psi(), sin_theta() * sin_psi()]])  #the vector of observor's direction\n",
      "def vector_epsilon_out_1():\n",
      "    return Matrix([[-sin_theta() * sin_psi() * cos_theta() / sqrt(S(1) - sin_theta()**2 * sin_psi()**2), -sin_theta() * sin_psi() * sin_theta() * cos_psi() / sqrt(S(1) - sin_theta()**2 * sin_psi()**2), sqrt(1 - sin_theta()**2 * sin_psi()**2)]]) #the out vector which lies in the xOy plane\n",
      "def vector_epsilon_out_2():\n",
      "    return vector_epsilon_out_1().cross(vector_n()) #the other out vector\n",
      "#in S' frame\n",
      "def vector_n_prime():\n",
      "    return Matrix([[cos_theta_prime(), sin_theta_prime() * cos_psi_prime(), sin_theta_prime() * sin_psi_prime()]])\n",
      "def vector_epsilon_prime_out_1():\n",
      "    return Matrix([[-sin_theta_prime() * sin_psi_prime() * cos_theta_prime() / sqrt(S(1) - sin_theta_prime()**2 * sin_psi_prime()**2), -sin_theta_prime() * sin_psi_prime() * sin_theta_prime() * cos_psi_prime() / sqrt(S(1) - sin_theta_prime()**2 * sin_psi_prime()**2), sqrt(S(1) - sin_theta_prime()**2 * sin_psi_prime()**2)]]) #the out vector which lies in the xOy plane\n",
      "def vector_epsilon_prime_out_2():\n",
      "    return vector_epsilon_prime_out_1().cross(vector_n_prime())\n",
      "r_e = var('r_e')  #classical electron radius\n",
      "def E_prime_out_1():\n",
      "    return r_e * E_prime * vector_epsilon_prime_out_1().dot(vector_epsilon_prime_in)\n",
      "def E_prime_out_2():\n",
      "    return r_e * E_prime * vector_epsilon_prime_out_2().dot(vector_epsilon_prime_in)\n",
      "def vector_E_prime_out():\n",
      "    return E_prime_out_1() * vector_epsilon_prime_out_1() + E_prime_out_2() * vector_epsilon_prime_out_2()\n",
      "def vector_B_prime_out():\n",
      "    return S(1) / c * vector_n_prime().cross(vector_E_prime_out())\n",
      "vector_x = Matrix([[S(1), S(0), S(0)]])\n",
      "def vector_E_out():\n",
      "    return gamma * (vector_E_prime_out() - v() * vector_x.cross(vector_B_prime_out())) - (gamma - 1) * vector_E_prime_out().dot(vector_x) * vector_x\n",
      "def factor_vector(vector_instance):\n",
      "    return Matrix([[factor(vector_instance[i]) for i in range(len(vector_instance))]])"
     ],
     "language": "python",
     "metadata": {},
     "outputs": [],
     "prompt_number": 4
    },
    {
     "cell_type": "code",
     "collapsed": false,
     "input": [
      "factor_vector(vector_E_out())"
     ],
     "language": "python",
     "metadata": {},
     "outputs": [
      {
       "latex": [
        "$$\\left[\\begin{smallmatrix}{}E_{prime} r_{e} \\sin{\\left (\\theta_{prime} \\right )} \\cos{\\left (\\psi_{prime} \\right )} \\cos{\\left (\\theta_{prime} \\right )} & \\frac{E_{prime} \\gamma r_{e} \\left(\\beta \\sin^{2}{\\left (\\theta_{prime} \\right )} \\cos^{2}{\\left (\\psi_{prime} \\right )} \\cos{\\left (\\theta_{prime} \\right )} + \\beta \\cos^{3}{\\left (\\theta_{prime} \\right )} + \\sin^{2}{\\left (\\psi_{prime} \\right )} \\sin^{4}{\\left (\\theta_{prime} \\right )} \\cos^{2}{\\left (\\psi_{prime} \\right )} + \\cos^{2}{\\left (\\theta_{prime} \\right )}\\right)}{\\left(\\sin{\\left (\\psi_{prime} \\right )} \\sin{\\left (\\theta_{prime} \\right )} - 1\\right) \\left(\\sin{\\left (\\psi_{prime} \\right )} \\sin{\\left (\\theta_{prime} \\right )} + 1\\right)} & E_{prime} \\gamma r_{e} \\sin{\\left (\\psi_{prime} \\right )} \\sin^{2}{\\left (\\theta_{prime} \\right )} \\cos{\\left (\\psi_{prime} \\right )}\\end{smallmatrix}\\right]$$"
       ],
       "metadata": {},
       "output_type": "pyout",
       "png": "[encoded data removed]",
       "prompt_number": 5,
       "text": [
        "\u23a1                                                                          \u239b  \n",
        "\u23a2                                                             E_prime\u22c5\u03b3\u22c5r\u2091\u22c5\u239d\u03b2\u22c5\n",
        "\u23a2E_prime\u22c5r\u2091\u22c5sin(theta_prime)\u22c5cos(psi_prime)\u22c5cos(theta_prime)  \u2500\u2500\u2500\u2500\u2500\u2500\u2500\u2500\u2500\u2500\u2500\u2500\u2500\u2500\u2500\u2500\n",
        "\u23a3                                                                             \n",
        "\n",
        "   2                 2                                    3                   \n",
        "sin (theta_prime)\u22c5cos (psi_prime)\u22c5cos(theta_prime) + \u03b2\u22c5cos (theta_prime) + sin\n",
        "\u2500\u2500\u2500\u2500\u2500\u2500\u2500\u2500\u2500\u2500\u2500\u2500\u2500\u2500\u2500\u2500\u2500\u2500\u2500\u2500\u2500\u2500\u2500\u2500\u2500\u2500\u2500\u2500\u2500\u2500\u2500\u2500\u2500\u2500\u2500\u2500\u2500\u2500\u2500\u2500\u2500\u2500\u2500\u2500\u2500\u2500\u2500\u2500\u2500\u2500\u2500\u2500\u2500\u2500\u2500\u2500\u2500\u2500\u2500\u2500\u2500\u2500\u2500\u2500\u2500\u2500\u2500\u2500\u2500\u2500\u2500\u2500\u2500\u2500\u2500\u2500\u2500\u2500\n",
        "                           (sin(psi_prime)\u22c5sin(theta_prime) - 1)\u22c5(sin(psi_prim\n",
        "\n",
        "2               4                 2                 2             \u239e           \n",
        " (psi_prime)\u22c5sin (theta_prime)\u22c5cos (psi_prime) + cos (theta_prime)\u23a0           \n",
        "\u2500\u2500\u2500\u2500\u2500\u2500\u2500\u2500\u2500\u2500\u2500\u2500\u2500\u2500\u2500\u2500\u2500\u2500\u2500\u2500\u2500\u2500\u2500\u2500\u2500\u2500\u2500\u2500\u2500\u2500\u2500\u2500\u2500\u2500\u2500\u2500\u2500\u2500\u2500\u2500\u2500\u2500\u2500\u2500\u2500\u2500\u2500\u2500\u2500\u2500\u2500\u2500\u2500\u2500\u2500\u2500\u2500\u2500\u2500\u2500\u2500\u2500\u2500\u2500\u2500\u2500\u2500  E_prime\u22c5\u03b3\n",
        "e)\u22c5sin(theta_prime) + 1)                                                      \n",
        "\n",
        "                                                   \u23a4\n",
        "                      2                            \u23a5\n",
        "\u22c5r\u2091\u22c5sin(psi_prime)\u22c5sin (theta_prime)\u22c5cos(psi_prime)\u23a5\n",
        "                                                   \u23a6"
       ]
      }
     ],
     "prompt_number": 5
    },
    {
     "cell_type": "code",
     "collapsed": false,
     "input": [
      "factor(vector_E_out()[0])"
     ],
     "language": "python",
     "metadata": {},
     "outputs": [
      {
       "latex": [
        "$$E_{prime} r_{e} \\sin{\\left (\\theta_{prime} \\right )} \\cos{\\left (\\psi_{prime} \\right )} \\cos{\\left (\\theta_{prime} \\right )}$$"
       ],
       "metadata": {},
       "output_type": "pyout",
       "png": "[encoded data removed]",
       "prompt_number": 6,
       "text": [
        "E_prime\u22c5r\u2091\u22c5sin(theta_prime)\u22c5cos(psi_prime)\u22c5cos(theta_prime)"
       ]
      }
     ],
     "prompt_number": 6
    },
    {
     "cell_type": "code",
     "collapsed": false,
     "input": [
      "factor(vector_E_out()[1])"
     ],
     "language": "python",
     "metadata": {},
     "outputs": [
      {
       "latex": [
        "$$\\frac{E_{prime} \\gamma r_{e} \\left(\\beta \\sin^{2}{\\left (\\theta_{prime} \\right )} \\cos^{2}{\\left (\\psi_{prime} \\right )} \\cos{\\left (\\theta_{prime} \\right )} + \\beta \\cos^{3}{\\left (\\theta_{prime} \\right )} + \\sin^{2}{\\left (\\psi_{prime} \\right )} \\sin^{4}{\\left (\\theta_{prime} \\right )} \\cos^{2}{\\left (\\psi_{prime} \\right )} + \\cos^{2}{\\left (\\theta_{prime} \\right )}\\right)}{\\left(\\sin{\\left (\\psi_{prime} \\right )} \\sin{\\left (\\theta_{prime} \\right )} - 1\\right) \\left(\\sin{\\left (\\psi_{prime} \\right )} \\sin{\\left (\\theta_{prime} \\right )} + 1\\right)}$$"
       ],
       "metadata": {},
       "output_type": "pyout",
       "png": "[encoded data removed]",
       "prompt_number": 7,
       "text": [
        "             \u239b     2                 2                                    3   \n",
        "E_prime\u22c5\u03b3\u22c5r\u2091\u22c5\u239d\u03b2\u22c5sin (theta_prime)\u22c5cos (psi_prime)\u22c5cos(theta_prime) + \u03b2\u22c5cos (th\n",
        "\u2500\u2500\u2500\u2500\u2500\u2500\u2500\u2500\u2500\u2500\u2500\u2500\u2500\u2500\u2500\u2500\u2500\u2500\u2500\u2500\u2500\u2500\u2500\u2500\u2500\u2500\u2500\u2500\u2500\u2500\u2500\u2500\u2500\u2500\u2500\u2500\u2500\u2500\u2500\u2500\u2500\u2500\u2500\u2500\u2500\u2500\u2500\u2500\u2500\u2500\u2500\u2500\u2500\u2500\u2500\u2500\u2500\u2500\u2500\u2500\u2500\u2500\u2500\u2500\u2500\u2500\u2500\u2500\u2500\u2500\u2500\u2500\u2500\u2500\u2500\u2500\u2500\u2500\n",
        "                                           (sin(psi_prime)\u22c5sin(theta_prime) - \n",
        "\n",
        "                2               4                 2                 2         \n",
        "eta_prime) + sin (psi_prime)\u22c5sin (theta_prime)\u22c5cos (psi_prime) + cos (theta_pr\n",
        "\u2500\u2500\u2500\u2500\u2500\u2500\u2500\u2500\u2500\u2500\u2500\u2500\u2500\u2500\u2500\u2500\u2500\u2500\u2500\u2500\u2500\u2500\u2500\u2500\u2500\u2500\u2500\u2500\u2500\u2500\u2500\u2500\u2500\u2500\u2500\u2500\u2500\u2500\u2500\u2500\u2500\u2500\u2500\u2500\u2500\u2500\u2500\u2500\u2500\u2500\u2500\u2500\u2500\u2500\u2500\u2500\u2500\u2500\u2500\u2500\u2500\u2500\u2500\u2500\u2500\u2500\u2500\u2500\u2500\u2500\u2500\u2500\u2500\u2500\u2500\u2500\u2500\u2500\n",
        "1)\u22c5(sin(psi_prime)\u22c5sin(theta_prime) + 1)                                      \n",
        "\n",
        "    \u239e\n",
        "ime)\u23a0\n",
        "\u2500\u2500\u2500\u2500\u2500\n",
        "     "
       ]
      }
     ],
     "prompt_number": 7
    },
    {
     "cell_type": "code",
     "collapsed": false,
     "input": [
      "factor(vector_E_out()[2])"
     ],
     "language": "python",
     "metadata": {},
     "outputs": [
      {
       "latex": [
        "$$E_{prime} \\gamma r_{e} \\sin{\\left (\\psi_{prime} \\right )} \\sin^{2}{\\left (\\theta_{prime} \\right )} \\cos{\\left (\\psi_{prime} \\right )}$$"
       ],
       "metadata": {},
       "output_type": "pyout",
       "png": "[encoded data removed]",
       "prompt_number": 8,
       "text": [
        "                               2                            \n",
        "E_prime\u22c5\u03b3\u22c5r\u2091\u22c5sin(psi_prime)\u22c5sin (theta_prime)\u22c5cos(psi_prime)"
       ]
      }
     ],
     "prompt_number": 8
    },
    {
     "cell_type": "markdown",
     "metadata": {},
     "source": [
      "####################################################################\n",
      "#Consider the transformation between quantities:                   #\n",
      "####################################################################"
     ]
    },
    {
     "cell_type": "code",
     "collapsed": false,
     "input": [
      "cos_theta = lambda : cos(Theta) * cos(phi)\n",
      "sin_theta = lambda : sqrt(S(1) - cos_theta()**2)\n",
      "cos_psi = lambda : cos(Theta) * sin(phi) / sin_theta()\n",
      "sin_psi = lambda : sqrt(S(1) - cos_psi()**2)\n",
      "sin_theta_prime = lambda : sin_theta() / (gamma * (S(1) - beta * cos_theta()))\n",
      "cos_theta_prime = lambda : (cos_theta() - beta) / (S(1) - beta * cos_theta())\n",
      "sin_psi_prime = lambda : sin_psi()\n",
      "cos_psi_prime = lambda : cos_psi()\n",
      "#sin_phi_prime = lambda : sin_theta_prime() * cos_psi_prime() / sqrt(1 - sin_theta_prime()^2 * sin_psi_prime()^2)\n",
      "#cos_phi_prime = lambda : sqrt(1 - sin_phi_prime()^2)\n",
      "#sin_Theta_prime = lambda : sin_theta_prime() * sin_psi_prime()\n",
      "#cos_Theta_prime = lambda : sqrt(1 - sin_Theta_prime()^2)\n",
      "gamma = S(1) / sqrt(S(1) - beta ** 2)"
     ],
     "language": "python",
     "metadata": {},
     "outputs": [],
     "prompt_number": 9
    },
    {
     "cell_type": "code",
     "collapsed": false,
     "input": [
      "factor_vector(vector_E_out())"
     ],
     "language": "python",
     "metadata": {},
     "outputs": [
      {
       "latex": [
        "$$\\left[\\begin{smallmatrix}{}- \\frac{E_{prime} r_{e} \\sqrt{- \\left(\\beta - 1\\right) \\left(\\beta + 1\\right)} \\sin{\\left (\\phi \\right )} \\cos{\\left (\\Theta \\right )}}{\\left(\\beta \\cos{\\left (\\Theta \\right )} \\cos{\\left (\\phi \\right )} - 1\\right)^{2}} \\left(\\beta - \\cos{\\left (\\Theta \\right )} \\cos{\\left (\\phi \\right )}\\right) & - \\frac{E_{prime} r_{e} \\left(\\beta - 1\\right) \\left(\\beta + 1\\right) \\left(\\beta \\cos{\\left (\\Theta \\right )} \\cos{\\left (\\phi \\right )} + \\sin^{2}{\\left (\\phi \\right )} \\cos^{2}{\\left (\\Theta \\right )} - 1\\right)}{\\sqrt{- \\left(\\beta - 1\\right) \\left(\\beta + 1\\right)} \\left(\\beta \\cos{\\left (\\Theta \\right )} \\cos{\\left (\\phi \\right )} - 1\\right)^{2}} & \\frac{E_{prime} r_{e} \\sqrt{- \\left(\\beta - 1\\right) \\left(\\beta + 1\\right)} \\sin{\\left (\\phi \\right )} \\cos{\\left (\\Theta \\right )}}{\\left(\\beta \\cos{\\left (\\Theta \\right )} \\cos{\\left (\\phi \\right )} - 1\\right)^{2}} \\sqrt{- \\left(\\cos{\\left (\\Theta \\right )} \\cos{\\left (\\phi \\right )} - 1\\right) \\left(\\cos{\\left (\\Theta \\right )} \\cos{\\left (\\phi \\right )} + 1\\right)} \\sqrt{- \\frac{\\sin^{2}{\\left (\\phi \\right )} \\cos^{2}{\\left (\\Theta \\right )} + \\cos^{2}{\\left (\\Theta \\right )} \\cos^{2}{\\left (\\phi \\right )} - 1}{- \\cos^{2}{\\left (\\Theta \\right )} \\cos^{2}{\\left (\\phi \\right )} + 1}}\\end{smallmatrix}\\right]$$"
       ],
       "metadata": {},
       "output_type": "pyout",
       "png": "[encoded data removed]",
       "prompt_number": 10,
       "text": [
        "\u23a1                                                                             \n",
        "\u23a2                                                                             \n",
        "\u23a2                                                                             \n",
        "\u23a2                                                                             \n",
        "\u23a2              __________________                                             \n",
        "\u23a2-E_prime\u22c5r\u2091\u22c5\u2572\u2571 -(\u03b2 - 1)\u22c5(\u03b2 + 1) \u22c5(\u03b2 - cos(\u0398)\u22c5cos(\u03c6))\u22c5sin(\u03c6)\u22c5cos(\u0398)   -E_prime\n",
        "\u23a2\u2500\u2500\u2500\u2500\u2500\u2500\u2500\u2500\u2500\u2500\u2500\u2500\u2500\u2500\u2500\u2500\u2500\u2500\u2500\u2500\u2500\u2500\u2500\u2500\u2500\u2500\u2500\u2500\u2500\u2500\u2500\u2500\u2500\u2500\u2500\u2500\u2500\u2500\u2500\u2500\u2500\u2500\u2500\u2500\u2500\u2500\u2500\u2500\u2500\u2500\u2500\u2500\u2500\u2500\u2500\u2500\u2500\u2500\u2500\u2500\u2500\u2500\u2500\u2500\u2500\u2500\u2500  \u2500\u2500\u2500\u2500\u2500\u2500\u2500\u2500\n",
        "\u23a2                                            2                                \n",
        "\u23a3                       (\u03b2\u22c5cos(\u0398)\u22c5cos(\u03c6) - 1)                                 \n",
        "\n",
        "                                                                              \n",
        "                                                                              \n",
        "                                                                           ___\n",
        "                                                              E_prime\u22c5r\u2091\u22c5\u2572\u2571 -(\n",
        "                    \u239b                     2       2       \u239e                   \n",
        "\u22c5r\u2091\u22c5(\u03b2 - 1)\u22c5(\u03b2 + 1)\u22c5\u239d\u03b2\u22c5cos(\u0398)\u22c5cos(\u03c6) + sin (\u03c6)\u22c5cos (\u0398) - 1\u23a0                   \n",
        "\u2500\u2500\u2500\u2500\u2500\u2500\u2500\u2500\u2500\u2500\u2500\u2500\u2500\u2500\u2500\u2500\u2500\u2500\u2500\u2500\u2500\u2500\u2500\u2500\u2500\u2500\u2500\u2500\u2500\u2500\u2500\u2500\u2500\u2500\u2500\u2500\u2500\u2500\u2500\u2500\u2500\u2500\u2500\u2500\u2500\u2500\u2500\u2500\u2500\u2500\u2500\u2500\u2500\u2500\u2500\u2500\u2500\u2500\u2500\u2500  \u2500\u2500\u2500\u2500\u2500\u2500\u2500\u2500\u2500\u2500\u2500\u2500\u2500\u2500\u2500\u2500\n",
        "      __________________                      2                               \n",
        "    \u2572\u2571 -(\u03b2 - 1)\u22c5(\u03b2 + 1) \u22c5(\u03b2\u22c5cos(\u0398)\u22c5cos(\u03c6) - 1)                                \n",
        "\n",
        "                                                                   ___________\n",
        "                                                                  \u2571  \u239b   2    \n",
        "_______________   __________________________________________     \u2571  -\u239dsin (\u03c6)\u22c5\n",
        "\u03b2 - 1)\u22c5(\u03b2 + 1) \u22c5\u2572\u2571 -(cos(\u0398)\u22c5cos(\u03c6) - 1)\u22c5(cos(\u0398)\u22c5cos(\u03c6) + 1) \u22c5   \u2571   \u2500\u2500\u2500\u2500\u2500\u2500\u2500\u2500\u2500\u2500\n",
        "                                                               \u2571              \n",
        "                                                             \u2572\u2571               \n",
        "\u2500\u2500\u2500\u2500\u2500\u2500\u2500\u2500\u2500\u2500\u2500\u2500\u2500\u2500\u2500\u2500\u2500\u2500\u2500\u2500\u2500\u2500\u2500\u2500\u2500\u2500\u2500\u2500\u2500\u2500\u2500\u2500\u2500\u2500\u2500\u2500\u2500\u2500\u2500\u2500\u2500\u2500\u2500\u2500\u2500\u2500\u2500\u2500\u2500\u2500\u2500\u2500\u2500\u2500\u2500\u2500\u2500\u2500\u2500\u2500\u2500\u2500\u2500\u2500\u2500\u2500\u2500\u2500\u2500\u2500\u2500\u2500\u2500\u2500\u2500\u2500\u2500\u2500\n",
        "                                                                2             \n",
        "                                           (\u03b2\u22c5cos(\u0398)\u22c5cos(\u03c6) - 1)              \n",
        "\n",
        "________________________________              \u23a4\n",
        "   2         2       2       \u239e                \u23a5\n",
        "cos (\u0398) + cos (\u0398)\u22c5cos (\u03c6) - 1\u23a0                \u23a5\n",
        "\u2500\u2500\u2500\u2500\u2500\u2500\u2500\u2500\u2500\u2500\u2500\u2500\u2500\u2500\u2500\u2500\u2500\u2500\u2500\u2500\u2500\u2500\u2500\u2500\u2500\u2500\u2500\u2500\u2500\u2500\u2500 \u22c5sin(\u03c6)\u22c5cos(\u0398)\u23a5\n",
        "     2       2                                \u23a5\n",
        "- cos (\u0398)\u22c5cos (\u03c6) + 1                         \u23a5\n",
        "\u2500\u2500\u2500\u2500\u2500\u2500\u2500\u2500\u2500\u2500\u2500\u2500\u2500\u2500\u2500\u2500\u2500\u2500\u2500\u2500\u2500\u2500\u2500\u2500\u2500\u2500\u2500\u2500\u2500\u2500\u2500\u2500\u2500\u2500\u2500\u2500\u2500\u2500\u2500\u2500\u2500\u2500\u2500\u2500\u2500\u2500\u23a5\n",
        "                                              \u23a5\n",
        "                                              \u23a6"
       ]
      }
     ],
     "prompt_number": 10
    },
    {
     "cell_type": "code",
     "collapsed": false,
     "input": [
      "factor(vector_E_out()[0])"
     ],
     "language": "python",
     "metadata": {},
     "outputs": [
      {
       "latex": [
        "$$- \\frac{E_{prime} r_{e} \\sqrt{- \\left(\\beta - 1\\right) \\left(\\beta + 1\\right)} \\sin{\\left (\\phi \\right )} \\cos{\\left (\\Theta \\right )}}{\\left(\\beta \\cos{\\left (\\Theta \\right )} \\cos{\\left (\\phi \\right )} - 1\\right)^{2}} \\left(\\beta - \\cos{\\left (\\Theta \\right )} \\cos{\\left (\\phi \\right )}\\right)$$"
       ],
       "metadata": {},
       "output_type": "pyout",
       "png": "[encoded data removed]",
       "prompt_number": 11,
       "text": [
        "              __________________                                   \n",
        "-E_prime\u22c5r\u2091\u22c5\u2572\u2571 -(\u03b2 - 1)\u22c5(\u03b2 + 1) \u22c5(\u03b2 - cos(\u0398)\u22c5cos(\u03c6))\u22c5sin(\u03c6)\u22c5cos(\u0398) \n",
        "\u2500\u2500\u2500\u2500\u2500\u2500\u2500\u2500\u2500\u2500\u2500\u2500\u2500\u2500\u2500\u2500\u2500\u2500\u2500\u2500\u2500\u2500\u2500\u2500\u2500\u2500\u2500\u2500\u2500\u2500\u2500\u2500\u2500\u2500\u2500\u2500\u2500\u2500\u2500\u2500\u2500\u2500\u2500\u2500\u2500\u2500\u2500\u2500\u2500\u2500\u2500\u2500\u2500\u2500\u2500\u2500\u2500\u2500\u2500\u2500\u2500\u2500\u2500\u2500\u2500\u2500\u2500\n",
        "                                            2                      \n",
        "                       (\u03b2\u22c5cos(\u0398)\u22c5cos(\u03c6) - 1)                       "
       ]
      }
     ],
     "prompt_number": 11
    },
    {
     "cell_type": "code",
     "collapsed": false,
     "input": [
      "factor(vector_E_out()[1])"
     ],
     "language": "python",
     "metadata": {},
     "outputs": [
      {
       "latex": [
        "$$- \\frac{E_{prime} r_{e} \\left(\\beta - 1\\right) \\left(\\beta + 1\\right) \\left(\\beta \\cos{\\left (\\Theta \\right )} \\cos{\\left (\\phi \\right )} + \\sin^{2}{\\left (\\phi \\right )} \\cos^{2}{\\left (\\Theta \\right )} - 1\\right)}{\\sqrt{- \\left(\\beta - 1\\right) \\left(\\beta + 1\\right)} \\left(\\beta \\cos{\\left (\\Theta \\right )} \\cos{\\left (\\phi \\right )} - 1\\right)^{2}}$$"
       ],
       "metadata": {},
       "output_type": "pyout",
       "png": "[encoded data removed]",
       "prompt_number": 12,
       "text": [
        "                            \u239b                     2       2       \u239e \n",
        "-E_prime\u22c5r\u2091\u22c5(\u03b2 - 1)\u22c5(\u03b2 + 1)\u22c5\u239d\u03b2\u22c5cos(\u0398)\u22c5cos(\u03c6) + sin (\u03c6)\u22c5cos (\u0398) - 1\u23a0 \n",
        "\u2500\u2500\u2500\u2500\u2500\u2500\u2500\u2500\u2500\u2500\u2500\u2500\u2500\u2500\u2500\u2500\u2500\u2500\u2500\u2500\u2500\u2500\u2500\u2500\u2500\u2500\u2500\u2500\u2500\u2500\u2500\u2500\u2500\u2500\u2500\u2500\u2500\u2500\u2500\u2500\u2500\u2500\u2500\u2500\u2500\u2500\u2500\u2500\u2500\u2500\u2500\u2500\u2500\u2500\u2500\u2500\u2500\u2500\u2500\u2500\u2500\u2500\u2500\u2500\u2500\u2500\u2500\u2500\n",
        "              __________________                      2             \n",
        "            \u2572\u2571 -(\u03b2 - 1)\u22c5(\u03b2 + 1) \u22c5(\u03b2\u22c5cos(\u0398)\u22c5cos(\u03c6) - 1)              "
       ]
      }
     ],
     "prompt_number": 12
    },
    {
     "cell_type": "code",
     "collapsed": false,
     "input": [
      "factor(vector_E_out()[2])"
     ],
     "language": "python",
     "metadata": {},
     "outputs": [
      {
       "latex": [
        "$$\\frac{E_{prime} r_{e} \\sqrt{- \\left(\\beta - 1\\right) \\left(\\beta + 1\\right)} \\sin{\\left (\\phi \\right )} \\cos{\\left (\\Theta \\right )}}{\\left(\\beta \\cos{\\left (\\Theta \\right )} \\cos{\\left (\\phi \\right )} - 1\\right)^{2}} \\sqrt{- \\left(\\cos{\\left (\\Theta \\right )} \\cos{\\left (\\phi \\right )} - 1\\right) \\left(\\cos{\\left (\\Theta \\right )} \\cos{\\left (\\phi \\right )} + 1\\right)} \\sqrt{- \\frac{\\sin^{2}{\\left (\\phi \\right )} \\cos^{2}{\\left (\\Theta \\right )} + \\cos^{2}{\\left (\\Theta \\right )} \\cos^{2}{\\left (\\phi \\right )} - 1}{- \\cos^{2}{\\left (\\Theta \\right )} \\cos^{2}{\\left (\\phi \\right )} + 1}}$$"
       ],
       "metadata": {},
       "output_type": "pyout",
       "png": "[encoded data removed]",
       "prompt_number": 13,
       "text": [
        "                                                                              \n",
        "                                                                              \n",
        "             __________________   __________________________________________  \n",
        "E_prime\u22c5r\u2091\u22c5\u2572\u2571 -(\u03b2 - 1)\u22c5(\u03b2 + 1) \u22c5\u2572\u2571 -(cos(\u0398)\u22c5cos(\u03c6) - 1)\u22c5(cos(\u0398)\u22c5cos(\u03c6) + 1) \u22c5 \n",
        "                                                                              \n",
        "                                                                             \u2572\n",
        "\u2500\u2500\u2500\u2500\u2500\u2500\u2500\u2500\u2500\u2500\u2500\u2500\u2500\u2500\u2500\u2500\u2500\u2500\u2500\u2500\u2500\u2500\u2500\u2500\u2500\u2500\u2500\u2500\u2500\u2500\u2500\u2500\u2500\u2500\u2500\u2500\u2500\u2500\u2500\u2500\u2500\u2500\u2500\u2500\u2500\u2500\u2500\u2500\u2500\u2500\u2500\u2500\u2500\u2500\u2500\u2500\u2500\u2500\u2500\u2500\u2500\u2500\u2500\u2500\u2500\u2500\u2500\u2500\u2500\u2500\u2500\u2500\u2500\u2500\u2500\u2500\u2500\u2500\n",
        "                                                                              \n",
        "                                                           (\u03b2\u22c5cos(\u0398)\u22c5cos(\u03c6) - \n",
        "\n",
        "     ___________________________________________              \n",
        "    \u2571  \u239b   2       2         2       2       \u239e                \n",
        "   \u2571  -\u239dsin (\u03c6)\u22c5cos (\u0398) + cos (\u0398)\u22c5cos (\u03c6) - 1\u23a0                \n",
        "  \u2571   \u2500\u2500\u2500\u2500\u2500\u2500\u2500\u2500\u2500\u2500\u2500\u2500\u2500\u2500\u2500\u2500\u2500\u2500\u2500\u2500\u2500\u2500\u2500\u2500\u2500\u2500\u2500\u2500\u2500\u2500\u2500\u2500\u2500\u2500\u2500\u2500\u2500\u2500\u2500\u2500\u2500 \u22c5sin(\u03c6)\u22c5cos(\u0398)\n",
        " \u2571                   2       2                                \n",
        "\u2571               - cos (\u0398)\u22c5cos (\u03c6) + 1                         \n",
        "\u2500\u2500\u2500\u2500\u2500\u2500\u2500\u2500\u2500\u2500\u2500\u2500\u2500\u2500\u2500\u2500\u2500\u2500\u2500\u2500\u2500\u2500\u2500\u2500\u2500\u2500\u2500\u2500\u2500\u2500\u2500\u2500\u2500\u2500\u2500\u2500\u2500\u2500\u2500\u2500\u2500\u2500\u2500\u2500\u2500\u2500\u2500\u2500\u2500\u2500\u2500\u2500\u2500\u2500\u2500\u2500\u2500\u2500\u2500\u2500\u2500\u2500\n",
        "  2                                                           \n",
        "1)                                                            "
       ]
      }
     ],
     "prompt_number": 13
    },
    {
     "cell_type": "code",
     "collapsed": false,
     "input": [
      "factor(vector_E_out().dot(vector_E_out()))"
     ],
     "language": "python",
     "metadata": {},
     "outputs": [
      {
       "latex": [
        "$$- \\frac{E_{prime}^{2} r_{e}^{2}}{\\left(\\beta \\cos{\\left (\\Theta \\right )} \\cos{\\left (\\phi \\right )} - 1\\right)^{4}} \\left(\\beta - 1\\right) \\left(\\beta + 1\\right) \\left(\\beta^{2} \\sin^{2}{\\left (\\phi \\right )} \\cos^{2}{\\left (\\Theta \\right )} + \\beta^{2} \\cos^{2}{\\left (\\Theta \\right )} \\cos^{2}{\\left (\\phi \\right )} - 2 \\beta \\cos{\\left (\\Theta \\right )} \\cos{\\left (\\phi \\right )} - \\sin^{2}{\\left (\\phi \\right )} \\cos^{2}{\\left (\\Theta \\right )} + 1\\right)$$"
       ],
       "metadata": {},
       "output_type": "pyout",
       "png": "[encoded data removed]",
       "prompt_number": 14,
       "text": [
        "        2   2                 \u239b 2    2       2       2    2       2           \n",
        "-E_prime \u22c5r\u2091 \u22c5(\u03b2 - 1)\u22c5(\u03b2 + 1)\u22c5\u239d\u03b2 \u22c5sin (\u03c6)\u22c5cos (\u0398) + \u03b2 \u22c5cos (\u0398)\u22c5cos (\u03c6) - 2\u22c5\u03b2\u22c5c\n",
        "\u2500\u2500\u2500\u2500\u2500\u2500\u2500\u2500\u2500\u2500\u2500\u2500\u2500\u2500\u2500\u2500\u2500\u2500\u2500\u2500\u2500\u2500\u2500\u2500\u2500\u2500\u2500\u2500\u2500\u2500\u2500\u2500\u2500\u2500\u2500\u2500\u2500\u2500\u2500\u2500\u2500\u2500\u2500\u2500\u2500\u2500\u2500\u2500\u2500\u2500\u2500\u2500\u2500\u2500\u2500\u2500\u2500\u2500\u2500\u2500\u2500\u2500\u2500\u2500\u2500\u2500\u2500\u2500\u2500\u2500\u2500\u2500\u2500\u2500\u2500\u2500\u2500\u2500\n",
        "                                                                   4          \n",
        "                                              (\u03b2\u22c5cos(\u0398)\u22c5cos(\u03c6) - 1)           \n",
        "\n",
        "                  2       2       \u239e \n",
        "os(\u0398)\u22c5cos(\u03c6) - sin (\u03c6)\u22c5cos (\u0398) + 1\u23a0 \n",
        "\u2500\u2500\u2500\u2500\u2500\u2500\u2500\u2500\u2500\u2500\u2500\u2500\u2500\u2500\u2500\u2500\u2500\u2500\u2500\u2500\u2500\u2500\u2500\u2500\u2500\u2500\u2500\u2500\u2500\u2500\u2500\u2500\u2500\u2500\u2500\u2500\n",
        "                                    \n",
        "                                    "
       ]
      }
     ],
     "prompt_number": 14
    },
    {
     "cell_type": "code",
     "collapsed": false,
     "input": [
      "#Below is the canonical calculation of electrodynamics\n",
      "canonical_vector_E_out = lambda : vector_n().cross((vector_n() - beta * vector_x).cross(vector_epsilon_prime_in)) / (S(1) - beta * vector_x.dot(vector_n()))**2"
     ],
     "language": "python",
     "metadata": {},
     "outputs": [],
     "prompt_number": 15
    },
    {
     "cell_type": "code",
     "collapsed": false,
     "input": [
      "factor_vector(canonical_vector_E_out())"
     ],
     "language": "python",
     "metadata": {},
     "outputs": [
      {
       "latex": [
        "$$\\left[\\begin{smallmatrix}{}\\frac{\\left(\\beta - \\cos{\\left (\\Theta \\right )} \\cos{\\left (\\phi \\right )}\\right) \\sin{\\left (\\phi \\right )} \\cos{\\left (\\Theta \\right )}}{\\left(\\beta \\cos{\\left (\\Theta \\right )} \\cos{\\left (\\phi \\right )} - 1\\right)^{2}} & - \\frac{\\beta \\cos{\\left (\\Theta \\right )} \\cos{\\left (\\phi \\right )} + \\sin^{2}{\\left (\\phi \\right )} \\cos^{2}{\\left (\\Theta \\right )} - 1}{\\left(\\beta \\cos{\\left (\\Theta \\right )} \\cos{\\left (\\phi \\right )} - 1\\right)^{2}} & - \\frac{\\sqrt{- \\left(\\cos{\\left (\\Theta \\right )} \\cos{\\left (\\phi \\right )} - 1\\right) \\left(\\cos{\\left (\\Theta \\right )} \\cos{\\left (\\phi \\right )} + 1\\right)}}{\\left(\\beta \\cos{\\left (\\Theta \\right )} \\cos{\\left (\\phi \\right )} - 1\\right)^{2}} \\sqrt{- \\frac{\\sin^{2}{\\left (\\phi \\right )} \\cos^{2}{\\left (\\Theta \\right )} + \\cos^{2}{\\left (\\Theta \\right )} \\cos^{2}{\\left (\\phi \\right )} - 1}{- \\cos^{2}{\\left (\\Theta \\right )} \\cos^{2}{\\left (\\phi \\right )} + 1}} \\sin{\\left (\\phi \\right )} \\cos{\\left (\\Theta \\right )}\\end{smallmatrix}\\right]$$"
       ],
       "metadata": {},
       "output_type": "pyout",
       "png": "[encoded data removed]",
       "prompt_number": 16,
       "text": [
        "\u23a1                                                                             \n",
        "\u23a2                                                                             \n",
        "\u23a2                                                                             \n",
        "\u23a2                                                                             \n",
        "\u23a2                                    \u239b                     2       2       \u239e  \n",
        "\u23a2(\u03b2 - cos(\u0398)\u22c5cos(\u03c6))\u22c5sin(\u03c6)\u22c5cos(\u0398)  -\u239d\u03b2\u22c5cos(\u0398)\u22c5cos(\u03c6) + sin (\u03c6)\u22c5cos (\u0398) - 1\u23a0  \n",
        "\u23a2\u2500\u2500\u2500\u2500\u2500\u2500\u2500\u2500\u2500\u2500\u2500\u2500\u2500\u2500\u2500\u2500\u2500\u2500\u2500\u2500\u2500\u2500\u2500\u2500\u2500\u2500\u2500\u2500\u2500\u2500\u2500\u2500\u2500  \u2500\u2500\u2500\u2500\u2500\u2500\u2500\u2500\u2500\u2500\u2500\u2500\u2500\u2500\u2500\u2500\u2500\u2500\u2500\u2500\u2500\u2500\u2500\u2500\u2500\u2500\u2500\u2500\u2500\u2500\u2500\u2500\u2500\u2500\u2500\u2500\u2500\u2500\u2500\u2500\u2500 \n",
        "\u23a2                           2                                      2          \n",
        "\u23a3      (\u03b2\u22c5cos(\u0398)\u22c5cos(\u03c6) - 1)                  (\u03b2\u22c5cos(\u0398)\u22c5cos(\u03c6) - 1)           \n",
        "\n",
        "                                                     _________________________\n",
        "                                                    \u2571  \u239b   2       2         2\n",
        "    __________________________________________     \u2571  -\u239dsin (\u03c6)\u22c5cos (\u0398) + cos \n",
        " -\u2572\u2571 -(cos(\u0398)\u22c5cos(\u03c6) - 1)\u22c5(cos(\u0398)\u22c5cos(\u03c6) + 1) \u22c5   \u2571   \u2500\u2500\u2500\u2500\u2500\u2500\u2500\u2500\u2500\u2500\u2500\u2500\u2500\u2500\u2500\u2500\u2500\u2500\u2500\u2500\u2500\u2500\u2500\u2500\n",
        "                                                 \u2571                   2       2\n",
        "                                               \u2572\u2571               - cos (\u0398)\u22c5cos \n",
        " \u2500\u2500\u2500\u2500\u2500\u2500\u2500\u2500\u2500\u2500\u2500\u2500\u2500\u2500\u2500\u2500\u2500\u2500\u2500\u2500\u2500\u2500\u2500\u2500\u2500\u2500\u2500\u2500\u2500\u2500\u2500\u2500\u2500\u2500\u2500\u2500\u2500\u2500\u2500\u2500\u2500\u2500\u2500\u2500\u2500\u2500\u2500\u2500\u2500\u2500\u2500\u2500\u2500\u2500\u2500\u2500\u2500\u2500\u2500\u2500\u2500\u2500\u2500\u2500\u2500\u2500\u2500\u2500\u2500\u2500\u2500\u2500\u2500\u2500\u2500\u2500\u2500\n",
        "                                                                  2           \n",
        "                                             (\u03b2\u22c5cos(\u0398)\u22c5cos(\u03c6) - 1)            \n",
        "\n",
        "__________________               \u23a4\n",
        "       2       \u239e                 \u23a5\n",
        "(\u0398)\u22c5cos (\u03c6) - 1\u23a0                 \u23a5\n",
        "\u2500\u2500\u2500\u2500\u2500\u2500\u2500\u2500\u2500\u2500\u2500\u2500\u2500\u2500\u2500\u2500\u2500 \u22c5sin(\u03c6)\u22c5cos(\u0398) \u23a5\n",
        "                                 \u23a5\n",
        "(\u03c6) + 1                          \u23a5\n",
        "\u2500\u2500\u2500\u2500\u2500\u2500\u2500\u2500\u2500\u2500\u2500\u2500\u2500\u2500\u2500\u2500\u2500\u2500\u2500\u2500\u2500\u2500\u2500\u2500\u2500\u2500\u2500\u2500\u2500\u2500\u2500\u2500\u2500\u23a5\n",
        "                                 \u23a5\n",
        "                                 \u23a6"
       ]
      }
     ],
     "prompt_number": 16
    },
    {
     "cell_type": "code",
     "collapsed": false,
     "input": [
      "factor(canonical_vector_E_out()[0])"
     ],
     "language": "python",
     "metadata": {},
     "outputs": [
      {
       "latex": [
        "$$\\frac{\\left(\\beta - \\cos{\\left (\\Theta \\right )} \\cos{\\left (\\phi \\right )}\\right) \\sin{\\left (\\phi \\right )} \\cos{\\left (\\Theta \\right )}}{\\left(\\beta \\cos{\\left (\\Theta \\right )} \\cos{\\left (\\phi \\right )} - 1\\right)^{2}}$$"
       ],
       "metadata": {},
       "output_type": "pyout",
       "png": "[encoded data removed]",
       "prompt_number": 17,
       "text": [
        "(\u03b2 - cos(\u0398)\u22c5cos(\u03c6))\u22c5sin(\u03c6)\u22c5cos(\u0398)\n",
        "\u2500\u2500\u2500\u2500\u2500\u2500\u2500\u2500\u2500\u2500\u2500\u2500\u2500\u2500\u2500\u2500\u2500\u2500\u2500\u2500\u2500\u2500\u2500\u2500\u2500\u2500\u2500\u2500\u2500\u2500\u2500\u2500\u2500\n",
        "                           2     \n",
        "      (\u03b2\u22c5cos(\u0398)\u22c5cos(\u03c6) - 1)      "
       ]
      }
     ],
     "prompt_number": 17
    },
    {
     "cell_type": "code",
     "collapsed": false,
     "input": [
      "factor(canonical_vector_E_out()[1])"
     ],
     "language": "python",
     "metadata": {},
     "outputs": [
      {
       "latex": [
        "$$- \\frac{\\beta \\cos{\\left (\\Theta \\right )} \\cos{\\left (\\phi \\right )} + \\sin^{2}{\\left (\\phi \\right )} \\cos^{2}{\\left (\\Theta \\right )} - 1}{\\left(\\beta \\cos{\\left (\\Theta \\right )} \\cos{\\left (\\phi \\right )} - 1\\right)^{2}}$$"
       ],
       "metadata": {},
       "output_type": "pyout",
       "png": "[encoded data removed]",
       "prompt_number": 18,
       "text": [
        " \u239b                     2       2       \u239e \n",
        "-\u239d\u03b2\u22c5cos(\u0398)\u22c5cos(\u03c6) + sin (\u03c6)\u22c5cos (\u0398) - 1\u23a0 \n",
        "\u2500\u2500\u2500\u2500\u2500\u2500\u2500\u2500\u2500\u2500\u2500\u2500\u2500\u2500\u2500\u2500\u2500\u2500\u2500\u2500\u2500\u2500\u2500\u2500\u2500\u2500\u2500\u2500\u2500\u2500\u2500\u2500\u2500\u2500\u2500\u2500\u2500\u2500\u2500\u2500\u2500\n",
        "                               2         \n",
        "          (\u03b2\u22c5cos(\u0398)\u22c5cos(\u03c6) - 1)          "
       ]
      }
     ],
     "prompt_number": 18
    },
    {
     "cell_type": "code",
     "collapsed": false,
     "input": [
      "factor(canonical_vector_E_out()[2])"
     ],
     "language": "python",
     "metadata": {},
     "outputs": [
      {
       "latex": [
        "$$- \\frac{\\sqrt{- \\left(\\cos{\\left (\\Theta \\right )} \\cos{\\left (\\phi \\right )} - 1\\right) \\left(\\cos{\\left (\\Theta \\right )} \\cos{\\left (\\phi \\right )} + 1\\right)}}{\\left(\\beta \\cos{\\left (\\Theta \\right )} \\cos{\\left (\\phi \\right )} - 1\\right)^{2}} \\sqrt{- \\frac{\\sin^{2}{\\left (\\phi \\right )} \\cos^{2}{\\left (\\Theta \\right )} + \\cos^{2}{\\left (\\Theta \\right )} \\cos^{2}{\\left (\\phi \\right )} - 1}{- \\cos^{2}{\\left (\\Theta \\right )} \\cos^{2}{\\left (\\phi \\right )} + 1}} \\sin{\\left (\\phi \\right )} \\cos{\\left (\\Theta \\right )}$$"
       ],
       "metadata": {},
       "output_type": "pyout",
       "png": "[encoded data removed]",
       "prompt_number": 19,
       "text": [
        "                                                    __________________________\n",
        "                                                   \u2571  \u239b   2       2         2 \n",
        "   __________________________________________     \u2571  -\u239dsin (\u03c6)\u22c5cos (\u0398) + cos (\n",
        "-\u2572\u2571 -(cos(\u0398)\u22c5cos(\u03c6) - 1)\u22c5(cos(\u0398)\u22c5cos(\u03c6) + 1) \u22c5   \u2571   \u2500\u2500\u2500\u2500\u2500\u2500\u2500\u2500\u2500\u2500\u2500\u2500\u2500\u2500\u2500\u2500\u2500\u2500\u2500\u2500\u2500\u2500\u2500\u2500\u2500\n",
        "                                                \u2571                   2       2 \n",
        "                                              \u2572\u2571               - cos (\u0398)\u22c5cos (\n",
        "\u2500\u2500\u2500\u2500\u2500\u2500\u2500\u2500\u2500\u2500\u2500\u2500\u2500\u2500\u2500\u2500\u2500\u2500\u2500\u2500\u2500\u2500\u2500\u2500\u2500\u2500\u2500\u2500\u2500\u2500\u2500\u2500\u2500\u2500\u2500\u2500\u2500\u2500\u2500\u2500\u2500\u2500\u2500\u2500\u2500\u2500\u2500\u2500\u2500\u2500\u2500\u2500\u2500\u2500\u2500\u2500\u2500\u2500\u2500\u2500\u2500\u2500\u2500\u2500\u2500\u2500\u2500\u2500\u2500\u2500\u2500\u2500\u2500\u2500\u2500\u2500\u2500\u2500\n",
        "                                                                 2            \n",
        "                                            (\u03b2\u22c5cos(\u0398)\u22c5cos(\u03c6) - 1)             \n",
        "\n",
        "_________________               \n",
        "      2       \u239e                 \n",
        "\u0398)\u22c5cos (\u03c6) - 1\u23a0                 \n",
        "\u2500\u2500\u2500\u2500\u2500\u2500\u2500\u2500\u2500\u2500\u2500\u2500\u2500\u2500\u2500\u2500 \u22c5sin(\u03c6)\u22c5cos(\u0398) \n",
        "                                \n",
        "\u03c6) + 1                          \n",
        "\u2500\u2500\u2500\u2500\u2500\u2500\u2500\u2500\u2500\u2500\u2500\u2500\u2500\u2500\u2500\u2500\u2500\u2500\u2500\u2500\u2500\u2500\u2500\u2500\u2500\u2500\u2500\u2500\u2500\u2500\u2500\u2500\n",
        "                                \n",
        "                                "
       ]
      }
     ],
     "prompt_number": 19
    },
    {
     "cell_type": "code",
     "collapsed": false,
     "input": [
      "factor(canonical_vector_E_out().dot(canonical_vector_E_out()))"
     ],
     "language": "python",
     "metadata": {},
     "outputs": [
      {
       "latex": [
        "$$\\frac{1}{\\left(\\beta \\cos{\\left (\\Theta \\right )} \\cos{\\left (\\phi \\right )} - 1\\right)^{4}} \\left(\\beta^{2} \\sin^{2}{\\left (\\phi \\right )} \\cos^{2}{\\left (\\Theta \\right )} + \\beta^{2} \\cos^{2}{\\left (\\Theta \\right )} \\cos^{2}{\\left (\\phi \\right )} - 2 \\beta \\cos{\\left (\\Theta \\right )} \\cos{\\left (\\phi \\right )} - \\sin^{2}{\\left (\\phi \\right )} \\cos^{2}{\\left (\\Theta \\right )} + 1\\right)$$"
       ],
       "metadata": {},
       "output_type": "pyout",
       "png": "[encoded data removed]",
       "prompt_number": 20,
       "text": [
        " 2    2       2       2    2       2                             2       2    \n",
        "\u03b2 \u22c5sin (\u03c6)\u22c5cos (\u0398) + \u03b2 \u22c5cos (\u0398)\u22c5cos (\u03c6) - 2\u22c5\u03b2\u22c5cos(\u0398)\u22c5cos(\u03c6) - sin (\u03c6)\u22c5cos (\u0398) \n",
        "\u2500\u2500\u2500\u2500\u2500\u2500\u2500\u2500\u2500\u2500\u2500\u2500\u2500\u2500\u2500\u2500\u2500\u2500\u2500\u2500\u2500\u2500\u2500\u2500\u2500\u2500\u2500\u2500\u2500\u2500\u2500\u2500\u2500\u2500\u2500\u2500\u2500\u2500\u2500\u2500\u2500\u2500\u2500\u2500\u2500\u2500\u2500\u2500\u2500\u2500\u2500\u2500\u2500\u2500\u2500\u2500\u2500\u2500\u2500\u2500\u2500\u2500\u2500\u2500\u2500\u2500\u2500\u2500\u2500\u2500\u2500\u2500\u2500\u2500\u2500\u2500\u2500\u2500\n",
        "                                                   4                          \n",
        "                              (\u03b2\u22c5cos(\u0398)\u22c5cos(\u03c6) - 1)                           \n",
        "\n",
        "   \n",
        "+ 1\n",
        "\u2500\u2500\u2500\n",
        "   \n",
        "   "
       ]
      }
     ],
     "prompt_number": 20
    },
    {
     "cell_type": "markdown",
     "metadata": {},
     "source": [
      "#################################################################\n",
      "#Compare the result of two different method:                    #\n",
      "#################################################################"
     ]
    },
    {
     "cell_type": "code",
     "collapsed": false,
     "input": [
      "factor_vector(vector_E_out() - (-E_prime * r_e / gamma * canonical_vector_E_out()))"
     ],
     "language": "python",
     "metadata": {},
     "outputs": [
      {
       "latex": [
        "$$\\left[\\begin{smallmatrix}{}0 & 0 & 0\\end{smallmatrix}\\right]$$"
       ],
       "metadata": {},
       "output_type": "pyout",
       "png": "[encoded data removed]",
       "prompt_number": 25,
       "text": [
        "[0  0  0]"
       ]
      }
     ],
     "prompt_number": 25
    },
    {
     "cell_type": "code",
     "collapsed": false,
     "input": [
      "factor(vector_E_out().dot(vector_E_out()) - E_prime**2 * r_e**2 / gamma**2 * canonical_vector_E_out().dot(canonical_vector_E_out()))"
     ],
     "language": "python",
     "metadata": {},
     "outputs": [
      {
       "latex": [
        "$$0$$"
       ],
       "metadata": {},
       "output_type": "pyout",
       "png": "[encoded data removed]",
       "prompt_number": 24,
       "text": [
        "0"
       ]
      }
     ],
     "prompt_number": 24
    },
    {
     "cell_type": "code",
     "collapsed": false,
     "input": [],
     "language": "python",
     "metadata": {},
     "outputs": [],
     "prompt_number": 22
    }
   ],
   "metadata": {}
  }
 ]
}