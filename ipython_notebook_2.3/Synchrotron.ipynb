{
 "metadata": {
  "name": "",
  "signature": "sha256:26fffc067268322b12fd0c4db70658e4f13a3985f55ff61b441c0b62a9ac5849"
 },
 "nbformat": 3,
 "nbformat_minor": 0,
 "worksheets": [
  {
   "cells": [
    {
     "cell_type": "code",
     "collapsed": false,
     "input": [
      "from sympy import *"
     ],
     "language": "python",
     "metadata": {},
     "outputs": [],
     "prompt_number": 2
    },
    {
     "cell_type": "code",
     "collapsed": false,
     "input": [
      "from sympy.matrices import Matrix"
     ],
     "language": "python",
     "metadata": {},
     "outputs": [],
     "prompt_number": 3
    },
    {
     "cell_type": "code",
     "collapsed": false,
     "input": [
      "init_printing()"
     ],
     "language": "python",
     "metadata": {},
     "outputs": [],
     "prompt_number": 4
    },
    {
     "cell_type": "code",
     "collapsed": false,
     "input": [
      "#######################################################################################################################\n",
      "#In this worksheet, we represent the dependency of different variables with functions.                                #\n",
      "#Thus, when one variable changes, those depending on it will be changed simultaneously.                               #\n",
      "#However, the disadvantage is that the method slow down the speed of calculation obviously.                           #\n",
      "#######################################################################################################################\n",
      "\n",
      "#In the first section, all variables are symbols. The transformation and relationship are ignored\n",
      "Theta = var('Theta')  #Theta is the angle between the direction vector and its projection on xOy plane\n",
      "phi = var('phi')#phi denote the angle between the projection mentioned above and the direction of +x axis, which is also the direction of the speed\n",
      "Theta_prime = var('Theta_prime')\n",
      "phi_prime = var('phi_prime')\n",
      "\n",
      "psi = var('psi')\n",
      "theta = var('theta')\n",
      "psi_prime = var('psi_prime')\n",
      "theta_prime = var('theta_prime')\n",
      "\n",
      "cos_theta = lambda : cos(theta)\n",
      "sin_theta = lambda : sin(theta)\n",
      "cos_psi = lambda : cos(psi)\n",
      "sin_psi = lambda : sin(psi)\n",
      "cos_theta_prime = lambda : cos(theta_prime)\n",
      "sin_theta_prime = lambda : sin(theta_prime)\n",
      "cos_psi_prime = lambda : cos(psi_prime)\n",
      "sin_psi_prime = lambda : sin(psi_prime)\n",
      "c = var('c')  #light speed\n",
      "B = var('B')  #the strength of magnetic field during the period in which the particle passes through the segment\n",
      "beta = var('beta')\n",
      "v = lambda : beta * c  #the speed of the particle during the period\n",
      "gamma = var('gamma')\n",
      "#func_gamma = lambda : gamma\n",
      "E_prime = var('E_prime')  #the strength of electric field in the S' frame\n",
      "#func_E_prime = lambda : E_prime\n",
      "B_prime = var('B_prime')\n",
      "#func_B_prime = lambda : B_prime\n",
      "vector_epsilon_prime_in = Matrix([[S(0), -S(1), S(0)]])\n",
      "#in S frame\n",
      "def vector_n():\n",
      "    return Matrix([[cos_theta(), sin_theta() * cos_psi(), sin_theta() * sin_psi()]])  #the vector of observor's direction\n",
      "def vector_epsilon_out_1():\n",
      "    return Matrix([[-sin_theta() * sin_psi() * cos_theta() / sqrt(S(1) - sin_theta()**2 * sin_psi()**2), -sin_theta() * sin_psi() * sin_theta() * cos_psi() / sqrt(S(1) - sin_theta()**2 * sin_psi()**2), sqrt(1 - sin_theta()**2 * sin_psi()**2)]]) #the out vector which lies in the xOy plane\n",
      "def vector_epsilon_out_2():\n",
      "    return vector_epsilon_out_1().cross(vector_n()) #the other out vector\n",
      "#in S' frame\n",
      "def vector_n_prime():\n",
      "    return Matrix([[cos_theta_prime(), sin_theta_prime() * cos_psi_prime(), sin_theta_prime() * sin_psi_prime()]])\n",
      "def vector_epsilon_prime_out_1():\n",
      "    return Matrix([[-sin_theta_prime() * sin_psi_prime() * cos_theta_prime() / sqrt(S(1) - sin_theta_prime()**2 * sin_psi_prime()**2), -sin_theta_prime() * sin_psi_prime() * sin_theta_prime() * cos_psi_prime() / sqrt(S(1) - sin_theta_prime()**2 * sin_psi_prime()**2), sqrt(S(1) - sin_theta_prime()**2 * sin_psi_prime()**2)]]) #the out vector which lies in the xOy plane\n",
      "def vector_epsilon_prime_out_2():\n",
      "    return vector_epsilon_prime_out_1().cross(vector_n_prime())\n",
      "r_e = var('r_e')  #classical electron radius\n",
      "def E_prime_out_1():\n",
      "    return r_e * E_prime * vector_epsilon_prime_out_1().dot(vector_epsilon_prime_in)\n",
      "def E_prime_out_2():\n",
      "    return r_e * E_prime * vector_epsilon_prime_out_2().dot(vector_epsilon_prime_in)\n",
      "def vector_E_prime_out():\n",
      "    return E_prime_out_1() * vector_epsilon_prime_out_1() + E_prime_out_2() * vector_epsilon_prime_out_2()\n",
      "def vector_B_prime_out():\n",
      "    return S(1) / c * vector_n_prime().cross(vector_E_prime_out())\n",
      "vector_x = Matrix([[S(1), S(0), S(0)]])\n",
      "def vector_E_out():\n",
      "    return gamma * (vector_E_prime_out() - v() * vector_x.cross(vector_B_prime_out())) - (gamma - 1) * vector_E_prime_out().dot(vector_x) * vector_x\n",
      "def factor_vector(vector_instance):\n",
      "    return Matrix([[factor(vector_instance[i]) for i in range(len(vector_instance))]])"
     ],
     "language": "python",
     "metadata": {},
     "outputs": [],
     "prompt_number": 5
    },
    {
     "cell_type": "code",
     "collapsed": false,
     "input": [
      "factor_vector(vector_E_out())"
     ],
     "language": "python",
     "metadata": {},
     "outputs": [
      {
       "latex": [
        "$$\\left(\\begin{smallmatrix}E_{prime} r_{e} \\operatorname{sin}\\left(\\theta_{prime}\\right) \\operatorname{cos}\\left(\\psi_{prime}\\right) \\operatorname{cos}\\left(\\theta_{prime}\\right) & \\frac{E_{prime} \\gamma r_{e} \\left(\\beta \\operatorname{sin}^{2}\\left(\\theta_{prime}\\right) \\operatorname{cos}^{2}\\left(\\psi_{prime}\\right) \\operatorname{cos}\\left(\\theta_{prime}\\right) + \\beta \\operatorname{cos}^{3}\\left(\\theta_{prime}\\right) + \\operatorname{sin}^{2}\\left(\\psi_{prime}\\right) \\operatorname{sin}^{4}\\left(\\theta_{prime}\\right) \\operatorname{cos}^{2}\\left(\\psi_{prime}\\right) + \\operatorname{cos}^{2}\\left(\\theta_{prime}\\right)\\right)}{\\left(\\operatorname{sin}\\left(\\psi_{prime}\\right) \\operatorname{sin}\\left(\\theta_{prime}\\right) -1\\right) \\left(\\operatorname{sin}\\left(\\psi_{prime}\\right) \\operatorname{sin}\\left(\\theta_{prime}\\right) + 1\\right)} & E_{prime} \\gamma r_{e} \\operatorname{sin}\\left(\\psi_{prime}\\right) \\operatorname{sin}^{2}\\left(\\theta_{prime}\\right) \\operatorname{cos}\\left(\\psi_{prime}\\right)\\end{smallmatrix}\\right)$$"
       ],
       "metadata": {},
       "output_type": "pyout",
       "png": "[encoded data removed]",
       "prompt_number": 6,
       "text": [
        "\n",
        "\u23a1                                                                \u239b     2      \n",
        "\u23a2                                                   E_prime\u22c5\u03b3\u22c5r\u2091\u22c5\u239d\u03b2\u22c5sin (\u03b8_pri\n",
        "\u23a2E_prime\u22c5r\u2091\u22c5sin(\u03b8_prime)\u22c5cos(\u03c8_prime)\u22c5cos(\u03b8_prime)  \u2500\u2500\u2500\u2500\u2500\u2500\u2500\u2500\u2500\u2500\u2500\u2500\u2500\u2500\u2500\u2500\u2500\u2500\u2500\u2500\u2500\u2500\u2500\u2500\u2500\u2500\n",
        "\u23a3                                                                             \n",
        "\n",
        "       2                              3               2             4         \n",
        "me)\u22c5cos (\u03c8_prime)\u22c5cos(\u03b8_prime) + \u03b2\u22c5cos (\u03b8_prime) + sin (\u03c8_prime)\u22c5sin (\u03b8_prime)\n",
        "\u2500\u2500\u2500\u2500\u2500\u2500\u2500\u2500\u2500\u2500\u2500\u2500\u2500\u2500\u2500\u2500\u2500\u2500\u2500\u2500\u2500\u2500\u2500\u2500\u2500\u2500\u2500\u2500\u2500\u2500\u2500\u2500\u2500\u2500\u2500\u2500\u2500\u2500\u2500\u2500\u2500\u2500\u2500\u2500\u2500\u2500\u2500\u2500\u2500\u2500\u2500\u2500\u2500\u2500\u2500\u2500\u2500\u2500\u2500\u2500\u2500\u2500\u2500\u2500\u2500\u2500\u2500\u2500\u2500\u2500\u2500\u2500\u2500\u2500\u2500\u2500\u2500\u2500\n",
        "          (sin(\u03c8_prime)\u22c5sin(\u03b8_prime) - 1)\u22c5(sin(\u03c8_prime)\u22c5sin(\u03b8_prime) + 1)     \n",
        "\n",
        "    2               2         \u239e                                               \n",
        "\u22c5cos (\u03c8_prime) + cos (\u03b8_prime)\u23a0                               2               \n",
        "\u2500\u2500\u2500\u2500\u2500\u2500\u2500\u2500\u2500\u2500\u2500\u2500\u2500\u2500\u2500\u2500\u2500\u2500\u2500\u2500\u2500\u2500\u2500\u2500\u2500\u2500\u2500\u2500\u2500\u2500\u2500  E_prime\u22c5\u03b3\u22c5r\u2091\u22c5sin(\u03c8_prime)\u22c5sin (\u03b8_prime)\u22c5cos(\u03c8\n",
        "                                                                              \n",
        "\n",
        "       \u23a4\n",
        "       \u23a5\n",
        "_prime)\u23a5\n",
        "       \u23a6"
       ]
      }
     ],
     "prompt_number": 6
    },
    {
     "cell_type": "code",
     "collapsed": false,
     "input": [
      "factor(vector_E_out()[0])"
     ],
     "language": "python",
     "metadata": {},
     "outputs": [
      {
       "latex": [
        "$$E_{prime} r_{e} \\operatorname{sin}\\left(\\theta_{prime}\\right) \\operatorname{cos}\\left(\\psi_{prime}\\right) \\operatorname{cos}\\left(\\theta_{prime}\\right)$$"
       ],
       "metadata": {},
       "output_type": "pyout",
       "png": "[encoded data removed]",
       "prompt_number": 7,
       "text": [
        "E_prime\u22c5r\u2091\u22c5sin(\u03b8_prime)\u22c5cos(\u03c8_prime)\u22c5cos(\u03b8_prime)"
       ]
      }
     ],
     "prompt_number": 7
    },
    {
     "cell_type": "code",
     "collapsed": false,
     "input": [
      "factor(vector_E_out()[1])"
     ],
     "language": "python",
     "metadata": {},
     "outputs": [
      {
       "latex": [
        "$$\\frac{E_{prime} \\gamma r_{e} \\left(\\beta \\operatorname{sin}^{2}\\left(\\theta_{prime}\\right) \\operatorname{cos}^{2}\\left(\\psi_{prime}\\right) \\operatorname{cos}\\left(\\theta_{prime}\\right) + \\beta \\operatorname{cos}^{3}\\left(\\theta_{prime}\\right) + \\operatorname{sin}^{2}\\left(\\psi_{prime}\\right) \\operatorname{sin}^{4}\\left(\\theta_{prime}\\right) \\operatorname{cos}^{2}\\left(\\psi_{prime}\\right) + \\operatorname{cos}^{2}\\left(\\theta_{prime}\\right)\\right)}{\\left(\\operatorname{sin}\\left(\\psi_{prime}\\right) \\operatorname{sin}\\left(\\theta_{prime}\\right) -1\\right) \\left(\\operatorname{sin}\\left(\\psi_{prime}\\right) \\operatorname{sin}\\left(\\theta_{prime}\\right) + 1\\right)}$$"
       ],
       "metadata": {},
       "output_type": "pyout",
       "png": "[encoded data removed]",
       "prompt_number": 8,
       "text": [
        "\n",
        "             \u239b     2             2                              3             \n",
        "E_prime\u22c5\u03b3\u22c5r\u2091\u22c5\u239d\u03b2\u22c5sin (\u03b8_prime)\u22c5cos (\u03c8_prime)\u22c5cos(\u03b8_prime) + \u03b2\u22c5cos (\u03b8_prime) + s\n",
        "\u2500\u2500\u2500\u2500\u2500\u2500\u2500\u2500\u2500\u2500\u2500\u2500\u2500\u2500\u2500\u2500\u2500\u2500\u2500\u2500\u2500\u2500\u2500\u2500\u2500\u2500\u2500\u2500\u2500\u2500\u2500\u2500\u2500\u2500\u2500\u2500\u2500\u2500\u2500\u2500\u2500\u2500\u2500\u2500\u2500\u2500\u2500\u2500\u2500\u2500\u2500\u2500\u2500\u2500\u2500\u2500\u2500\u2500\u2500\u2500\u2500\u2500\u2500\u2500\u2500\u2500\u2500\u2500\u2500\u2500\u2500\u2500\u2500\u2500\u2500\u2500\u2500\u2500\n",
        "                                    (sin(\u03c8_prime)\u22c5sin(\u03b8_prime) - 1)\u22c5(sin(\u03c8_pri\n",
        "\n",
        "  2             4             2               2         \u239e\n",
        "in (\u03c8_prime)\u22c5sin (\u03b8_prime)\u22c5cos (\u03c8_prime) + cos (\u03b8_prime)\u23a0\n",
        "\u2500\u2500\u2500\u2500\u2500\u2500\u2500\u2500\u2500\u2500\u2500\u2500\u2500\u2500\u2500\u2500\u2500\u2500\u2500\u2500\u2500\u2500\u2500\u2500\u2500\u2500\u2500\u2500\u2500\u2500\u2500\u2500\u2500\u2500\u2500\u2500\u2500\u2500\u2500\u2500\u2500\u2500\u2500\u2500\u2500\u2500\u2500\u2500\u2500\u2500\u2500\u2500\u2500\u2500\u2500\u2500\u2500\n",
        "me)\u22c5sin(\u03b8_prime) + 1)                                    "
       ]
      }
     ],
     "prompt_number": 8
    },
    {
     "cell_type": "code",
     "collapsed": false,
     "input": [
      "factor(vector_E_out()[2])"
     ],
     "language": "python",
     "metadata": {},
     "outputs": [
      {
       "latex": [
        "$$E_{prime} \\gamma r_{e} \\operatorname{sin}\\left(\\psi_{prime}\\right) \\operatorname{sin}^{2}\\left(\\theta_{prime}\\right) \\operatorname{cos}\\left(\\psi_{prime}\\right)$$"
       ],
       "metadata": {},
       "output_type": "pyout",
       "png": "[encoded data removed]",
       "prompt_number": 9,
       "text": [
        "\n",
        "                             2                      \n",
        "E_prime\u22c5\u03b3\u22c5r\u2091\u22c5sin(\u03c8_prime)\u22c5sin (\u03b8_prime)\u22c5cos(\u03c8_prime)"
       ]
      }
     ],
     "prompt_number": 9
    },
    {
     "cell_type": "code",
     "collapsed": false,
     "input": [
      "cos_theta = lambda : cos(Theta) * cos(phi)\n",
      "sin_theta = lambda : sqrt(S(1) - cos_theta()**2)\n",
      "cos_psi = lambda : cos(Theta) * sin(phi) / sin_theta()\n",
      "sin_psi = lambda : sqrt(S(1) - cos_psi()**2)\n",
      "sin_theta_prime = lambda : sin_theta() / (gamma * (S(1) - beta * cos_theta()))\n",
      "cos_theta_prime = lambda : (cos_theta() - beta) / (S(1) - beta * cos_theta())\n",
      "sin_psi_prime = lambda : sin_psi()\n",
      "cos_psi_prime = lambda : cos_psi()\n",
      "#sin_phi_prime = lambda : sin_theta_prime() * cos_psi_prime() / sqrt(1 - sin_theta_prime()^2 * sin_psi_prime()^2)\n",
      "#cos_phi_prime = lambda : sqrt(1 - sin_phi_prime()^2)\n",
      "#sin_Theta_prime = lambda : sin_theta_prime() * sin_psi_prime()\n",
      "#cos_Theta_prime = lambda : sqrt(1 - sin_Theta_prime()^2)\n",
      "gamma = S(1) / sqrt(S(1) - beta ** 2)"
     ],
     "language": "python",
     "metadata": {},
     "outputs": [],
     "prompt_number": 10
    },
    {
     "cell_type": "code",
     "collapsed": false,
     "input": [
      "factor_vector(vector_E_out())"
     ],
     "language": "python",
     "metadata": {},
     "outputs": [
      {
       "latex": [
        "$$\\left(\\begin{smallmatrix}- \\frac{\\mathbf{\\imath} E_{prime} r_{e} \\sqrt{\\beta -1} \\sqrt{\\beta + 1} \\left(\\beta - \\operatorname{cos}\\left(\\Theta\\right) \\operatorname{cos}\\left(\\phi\\right)\\right) \\operatorname{sin}\\left(\\phi\\right) \\operatorname{cos}\\left(\\Theta\\right)}{\\left(\\beta \\operatorname{cos}\\left(\\Theta\\right) \\operatorname{cos}\\left(\\phi\\right) -1\\right)^{2}} & \\frac{\\mathbf{\\imath} E_{prime} r_{e} \\sqrt{\\beta -1} \\sqrt{\\beta + 1} \\left(\\beta \\operatorname{cos}\\left(\\Theta\\right) \\operatorname{cos}\\left(\\phi\\right) + \\operatorname{sin}^{2}\\left(\\phi\\right) \\operatorname{cos}^{2}\\left(\\Theta\\right) -1\\right)}{\\left(\\beta \\operatorname{cos}\\left(\\Theta\\right) \\operatorname{cos}\\left(\\phi\\right) -1\\right)^{2}} & - \\frac{\\mathbf{\\imath} E_{prime} r_{e} \\sqrt{\\beta -1} \\sqrt{\\beta + 1} \\sqrt{\\operatorname{cos}\\left(\\Theta\\right) \\operatorname{cos}\\left(\\phi\\right) -1} \\sqrt{\\operatorname{cos}\\left(\\Theta\\right) \\operatorname{cos}\\left(\\phi\\right) + 1} \\sqrt{\\operatorname{sin}^{2}\\left(\\phi\\right) \\operatorname{cos}^{2}\\left(\\Theta\\right) + \\operatorname{cos}^{2}\\left(\\Theta\\right) \\operatorname{cos}^{2}\\left(\\phi\\right) -1} \\sqrt{\\frac{1}{- \\operatorname{cos}^{2}\\left(\\Theta\\right) \\operatorname{cos}^{2}\\left(\\phi\\right) + 1}} \\operatorname{sin}\\left(\\phi\\right) \\operatorname{cos}\\left(\\Theta\\right)}{\\left(\\beta \\operatorname{cos}\\left(\\Theta\\right) \\operatorname{cos}\\left(\\phi\\right) -1\\right)^{2}}\\end{smallmatrix}\\right)$$"
       ],
       "metadata": {},
       "output_type": "pyout",
       "png": "[encoded data removed]",
       "prompt_number": 11,
       "text": [
        "\n",
        "\u23a1                                                                             \n",
        "\u23a2                                                                             \n",
        "\u23a2                                                                             \n",
        "\u23a2                \u23bd\u23bd\u23bd\u23bd\u23bd\u23bd\u23bd   \u23bd\u23bd\u23bd\u23bd\u23bd\u23bd\u23bd                                            \n",
        "\u23a2-\u2148\u22c5E_prime\u22c5r\u2091\u22c5\u2572\u2571 \u03b2 - 1 \u22c5\u2572\u2571 \u03b2 + 1 \u22c5(\u03b2 - cos(\u0398)\u22c5cos(\u03c6))\u22c5sin(\u03c6)\u22c5cos(\u0398)  \u2148\u22c5E_prim\n",
        "\u23a2\u2500\u2500\u2500\u2500\u2500\u2500\u2500\u2500\u2500\u2500\u2500\u2500\u2500\u2500\u2500\u2500\u2500\u2500\u2500\u2500\u2500\u2500\u2500\u2500\u2500\u2500\u2500\u2500\u2500\u2500\u2500\u2500\u2500\u2500\u2500\u2500\u2500\u2500\u2500\u2500\u2500\u2500\u2500\u2500\u2500\u2500\u2500\u2500\u2500\u2500\u2500\u2500\u2500\u2500\u2500\u2500\u2500\u2500\u2500\u2500\u2500\u2500\u2500\u2500\u2500\u2500\u2500  \u2500\u2500\u2500\u2500\u2500\u2500\u2500\u2500\n",
        "\u23a2                                            2                                \n",
        "\u23a3                       (\u03b2\u22c5cos(\u0398)\u22c5cos(\u03c6) - 1)                                 \n",
        "\n",
        "                                                                              \n",
        "                                                                              \n",
        "                                                                  -\u2148\u22c5E_prime\u22c5r\n",
        "       \u23bd\u23bd\u23bd\u23bd\u23bd\u23bd\u23bd   \u23bd\u23bd\u23bd\u23bd\u23bd\u23bd\u23bd \u239b                     2       2       \u239e              \n",
        "e\u22c5r\u2091\u22c5\u2572\u2571 \u03b2 - 1 \u22c5\u2572\u2571 \u03b2 + 1 \u22c5\u239d\u03b2\u22c5cos(\u0398)\u22c5cos(\u03c6) + sin (\u03c6)\u22c5cos (\u0398) - 1\u23a0              \n",
        "\u2500\u2500\u2500\u2500\u2500\u2500\u2500\u2500\u2500\u2500\u2500\u2500\u2500\u2500\u2500\u2500\u2500\u2500\u2500\u2500\u2500\u2500\u2500\u2500\u2500\u2500\u2500\u2500\u2500\u2500\u2500\u2500\u2500\u2500\u2500\u2500\u2500\u2500\u2500\u2500\u2500\u2500\u2500\u2500\u2500\u2500\u2500\u2500\u2500\u2500\u2500\u2500\u2500\u2500\u2500\u2500\u2500\u2500\u2500\u2500\u2500\u2500\u2500\u2500  \u2500\u2500\u2500\u2500\u2500\u2500\u2500\u2500\u2500\u2500\u2500\u2500\n",
        "                                      2                                       \n",
        "                 (\u03b2\u22c5cos(\u0398)\u22c5cos(\u03c6) - 1)                                        \n",
        "\n",
        "                                                                     \u23bd\u23bd\u23bd\u23bd\u23bd\u23bd\u23bd\u23bd\u23bd\n",
        "    \u23bd\u23bd\u23bd\u23bd\u23bd\u23bd\u23bd   \u23bd\u23bd\u23bd\u23bd\u23bd\u23bd\u23bd   \u23bd\u23bd\u23bd\u23bd\u23bd\u23bd\u23bd\u23bd\u23bd\u23bd\u23bd\u23bd\u23bd\u23bd\u23bd\u23bd\u23bd\u23bd\u23bd   \u23bd\u23bd\u23bd\u23bd\u23bd\u23bd\u23bd\u23bd\u23bd\u23bd\u23bd\u23bd\u23bd\u23bd\u23bd\u23bd\u23bd\u23bd\u23bd   \u2571    2    \n",
        "\u2091\u22c5\u2572\u2571 \u03b2 - 1 \u22c5\u2572\u2571 \u03b2 + 1 \u22c5\u2572\u2571 cos(\u0398)\u22c5cos(\u03c6) - 1 \u22c5\u2572\u2571 cos(\u0398)\u22c5cos(\u03c6) + 1 \u22c5\u2572\u2571  sin (\u03c6)\u22c5\n",
        "                                                                              \n",
        "                                                                              \n",
        "\u2500\u2500\u2500\u2500\u2500\u2500\u2500\u2500\u2500\u2500\u2500\u2500\u2500\u2500\u2500\u2500\u2500\u2500\u2500\u2500\u2500\u2500\u2500\u2500\u2500\u2500\u2500\u2500\u2500\u2500\u2500\u2500\u2500\u2500\u2500\u2500\u2500\u2500\u2500\u2500\u2500\u2500\u2500\u2500\u2500\u2500\u2500\u2500\u2500\u2500\u2500\u2500\u2500\u2500\u2500\u2500\u2500\u2500\u2500\u2500\u2500\u2500\u2500\u2500\u2500\u2500\u2500\u2500\u2500\u2500\u2500\u2500\u2500\u2500\u2500\u2500\u2500\u2500\n",
        "                                                                              \n",
        "                                                           (\u03b2\u22c5cos(\u0398)\u22c5cos(\u03c6) - \n",
        "\n",
        "\u23bd\u23bd\u23bd\u23bd\u23bd\u23bd\u23bd\u23bd\u23bd\u23bd\u23bd\u23bd\u23bd\u23bd\u23bd\u23bd\u23bd\u23bd\u23bd\u23bd\u23bd\u23bd\u23bd\u23bd\u23bd\u23bd\u23bd\u23bd\u23bd\u23bd      \u23bd\u23bd\u23bd\u23bd\u23bd\u23bd\u23bd\u23bd\u23bd\u23bd\u23bd\u23bd\u23bd\u23bd\u23bd\u23bd\u23bd\u23bd\u23bd\u23bd\u23bd\u23bd\u23bd              \u23a4\n",
        "   2         2       2             \u2571           1                         \u23a5\n",
        "cos (\u0398) + cos (\u0398)\u22c5cos (\u03c6) - 1 \u22c5   \u2571  \u2500\u2500\u2500\u2500\u2500\u2500\u2500\u2500\u2500\u2500\u2500\u2500\u2500\u2500\u2500\u2500\u2500\u2500\u2500\u2500\u2500 \u22c5sin(\u03c6)\u22c5cos(\u0398)\u23a5\n",
        "                                 \u2571        2       2                      \u23a5\n",
        "                               \u2572\u2571    - cos (\u0398)\u22c5cos (\u03c6) + 1               \u23a5\n",
        "\u2500\u2500\u2500\u2500\u2500\u2500\u2500\u2500\u2500\u2500\u2500\u2500\u2500\u2500\u2500\u2500\u2500\u2500\u2500\u2500\u2500\u2500\u2500\u2500\u2500\u2500\u2500\u2500\u2500\u2500\u2500\u2500\u2500\u2500\u2500\u2500\u2500\u2500\u2500\u2500\u2500\u2500\u2500\u2500\u2500\u2500\u2500\u2500\u2500\u2500\u2500\u2500\u2500\u2500\u2500\u2500\u2500\u2500\u2500\u2500\u2500\u2500\u2500\u2500\u2500\u2500\u2500\u2500\u2500\u2500\u2500\u2500\u2500\u23a5\n",
        "  2                                                                      \u23a5\n",
        "1)                                                                       \u23a6"
       ]
      }
     ],
     "prompt_number": 11
    },
    {
     "cell_type": "code",
     "collapsed": false,
     "input": [
      "factor(vector_E_out()[0])"
     ],
     "language": "python",
     "metadata": {},
     "outputs": [
      {
       "latex": [
        "$$- \\frac{\\mathbf{\\imath} E_{prime} r_{e} \\sqrt{\\beta -1} \\sqrt{\\beta + 1} \\left(\\beta - \\operatorname{cos}\\left(\\Theta\\right) \\operatorname{cos}\\left(\\phi\\right)\\right) \\operatorname{sin}\\left(\\phi\\right) \\operatorname{cos}\\left(\\Theta\\right)}{\\left(\\beta \\operatorname{cos}\\left(\\Theta\\right) \\operatorname{cos}\\left(\\phi\\right) -1\\right)^{2}}$$"
       ],
       "metadata": {},
       "output_type": "pyout",
       "png": "[encoded data removed]",
       "prompt_number": 12,
       "text": [
        "\n",
        "                \u23bd\u23bd\u23bd\u23bd\u23bd\u23bd\u23bd   \u23bd\u23bd\u23bd\u23bd\u23bd\u23bd\u23bd                                  \n",
        "-\u2148\u22c5E_prime\u22c5r\u2091\u22c5\u2572\u2571 \u03b2 - 1 \u22c5\u2572\u2571 \u03b2 + 1 \u22c5(\u03b2 - cos(\u0398)\u22c5cos(\u03c6))\u22c5sin(\u03c6)\u22c5cos(\u0398)\n",
        "\u2500\u2500\u2500\u2500\u2500\u2500\u2500\u2500\u2500\u2500\u2500\u2500\u2500\u2500\u2500\u2500\u2500\u2500\u2500\u2500\u2500\u2500\u2500\u2500\u2500\u2500\u2500\u2500\u2500\u2500\u2500\u2500\u2500\u2500\u2500\u2500\u2500\u2500\u2500\u2500\u2500\u2500\u2500\u2500\u2500\u2500\u2500\u2500\u2500\u2500\u2500\u2500\u2500\u2500\u2500\u2500\u2500\u2500\u2500\u2500\u2500\u2500\u2500\u2500\u2500\u2500\u2500\n",
        "                                            2                      \n",
        "                       (\u03b2\u22c5cos(\u0398)\u22c5cos(\u03c6) - 1)                       "
       ]
      }
     ],
     "prompt_number": 12
    },
    {
     "cell_type": "code",
     "collapsed": false,
     "input": [
      "factor(vector_E_out()[1])"
     ],
     "language": "python",
     "metadata": {},
     "outputs": [
      {
       "latex": [
        "$$\\frac{\\mathbf{\\imath} E_{prime} r_{e} \\sqrt{\\beta -1} \\sqrt{\\beta + 1} \\left(\\beta \\operatorname{cos}\\left(\\Theta\\right) \\operatorname{cos}\\left(\\phi\\right) + \\operatorname{sin}^{2}\\left(\\phi\\right) \\operatorname{cos}^{2}\\left(\\Theta\\right) -1\\right)}{\\left(\\beta \\operatorname{cos}\\left(\\Theta\\right) \\operatorname{cos}\\left(\\phi\\right) -1\\right)^{2}}$$"
       ],
       "metadata": {},
       "output_type": "pyout",
       "png": "[encoded data removed]",
       "prompt_number": 13,
       "text": [
        "\n",
        "               \u23bd\u23bd\u23bd\u23bd\u23bd\u23bd\u23bd   \u23bd\u23bd\u23bd\u23bd\u23bd\u23bd\u23bd \u239b                     2       2       \u239e\n",
        "\u2148\u22c5E_prime\u22c5r\u2091\u22c5\u2572\u2571 \u03b2 - 1 \u22c5\u2572\u2571 \u03b2 + 1 \u22c5\u239d\u03b2\u22c5cos(\u0398)\u22c5cos(\u03c6) + sin (\u03c6)\u22c5cos (\u0398) - 1\u23a0\n",
        "\u2500\u2500\u2500\u2500\u2500\u2500\u2500\u2500\u2500\u2500\u2500\u2500\u2500\u2500\u2500\u2500\u2500\u2500\u2500\u2500\u2500\u2500\u2500\u2500\u2500\u2500\u2500\u2500\u2500\u2500\u2500\u2500\u2500\u2500\u2500\u2500\u2500\u2500\u2500\u2500\u2500\u2500\u2500\u2500\u2500\u2500\u2500\u2500\u2500\u2500\u2500\u2500\u2500\u2500\u2500\u2500\u2500\u2500\u2500\u2500\u2500\u2500\u2500\u2500\u2500\u2500\u2500\u2500\u2500\u2500\u2500\u2500\n",
        "                                              2                         \n",
        "                         (\u03b2\u22c5cos(\u0398)\u22c5cos(\u03c6) - 1)                          "
       ]
      }
     ],
     "prompt_number": 13
    },
    {
     "cell_type": "code",
     "collapsed": false,
     "input": [
      "factor(vector_E_out()[2])"
     ],
     "language": "python",
     "metadata": {},
     "outputs": [
      {
       "latex": [
        "$$- \\frac{\\mathbf{\\imath} E_{prime} r_{e} \\sqrt{\\beta -1} \\sqrt{\\beta + 1} \\sqrt{\\operatorname{cos}\\left(\\Theta\\right) \\operatorname{cos}\\left(\\phi\\right) -1} \\sqrt{\\operatorname{cos}\\left(\\Theta\\right) \\operatorname{cos}\\left(\\phi\\right) + 1} \\sqrt{\\operatorname{sin}^{2}\\left(\\phi\\right) \\operatorname{cos}^{2}\\left(\\Theta\\right) + \\operatorname{cos}^{2}\\left(\\Theta\\right) \\operatorname{cos}^{2}\\left(\\phi\\right) -1} \\sqrt{\\frac{1}{- \\operatorname{cos}^{2}\\left(\\Theta\\right) \\operatorname{cos}^{2}\\left(\\phi\\right) + 1}} \\operatorname{sin}\\left(\\phi\\right) \\operatorname{cos}\\left(\\Theta\\right)}{\\left(\\beta \\operatorname{cos}\\left(\\Theta\\right) \\operatorname{cos}\\left(\\phi\\right) -1\\right)^{2}}$$"
       ],
       "metadata": {},
       "output_type": "pyout",
       "png": "[encoded data removed]",
       "prompt_number": 14,
       "text": [
        "\n",
        "                                                                              \n",
        "                \u23bd\u23bd\u23bd\u23bd\u23bd\u23bd\u23bd   \u23bd\u23bd\u23bd\u23bd\u23bd\u23bd\u23bd   \u23bd\u23bd\u23bd\u23bd\u23bd\u23bd\u23bd\u23bd\u23bd\u23bd\u23bd\u23bd\u23bd\u23bd\u23bd\u23bd\u23bd\u23bd\u23bd   \u23bd\u23bd\u23bd\u23bd\u23bd\u23bd\u23bd\u23bd\u23bd\u23bd\u23bd\u23bd\u23bd\u23bd\u23bd\u23bd\u23bd\u23bd\u23bd \n",
        "-\u2148\u22c5E_prime\u22c5r\u2091\u22c5\u2572\u2571 \u03b2 - 1 \u22c5\u2572\u2571 \u03b2 + 1 \u22c5\u2572\u2571 cos(\u0398)\u22c5cos(\u03c6) - 1 \u22c5\u2572\u2571 cos(\u0398)\u22c5cos(\u03c6) + 1 \u22c5\n",
        "                                                                              \n",
        "                                                                              \n",
        "\u2500\u2500\u2500\u2500\u2500\u2500\u2500\u2500\u2500\u2500\u2500\u2500\u2500\u2500\u2500\u2500\u2500\u2500\u2500\u2500\u2500\u2500\u2500\u2500\u2500\u2500\u2500\u2500\u2500\u2500\u2500\u2500\u2500\u2500\u2500\u2500\u2500\u2500\u2500\u2500\u2500\u2500\u2500\u2500\u2500\u2500\u2500\u2500\u2500\u2500\u2500\u2500\u2500\u2500\u2500\u2500\u2500\u2500\u2500\u2500\u2500\u2500\u2500\u2500\u2500\u2500\u2500\u2500\u2500\u2500\u2500\u2500\u2500\u2500\u2500\u2500\u2500\u2500\n",
        "                                                                              \n",
        "                                                                       (\u03b2\u22c5cos(\n",
        "\n",
        "   \u23bd\u23bd\u23bd\u23bd\u23bd\u23bd\u23bd\u23bd\u23bd\u23bd\u23bd\u23bd\u23bd\u23bd\u23bd\u23bd\u23bd\u23bd\u23bd\u23bd\u23bd\u23bd\u23bd\u23bd\u23bd\u23bd\u23bd\u23bd\u23bd\u23bd\u23bd\u23bd\u23bd\u23bd\u23bd\u23bd\u23bd\u23bd\u23bd      \u23bd\u23bd\u23bd\u23bd\u23bd\u23bd\u23bd\u23bd\u23bd\u23bd\u23bd\u23bd\u23bd\u23bd\u23bd\u23bd\u23bd\u23bd\u23bd\u23bd\u23bd\u23bd\u23bd       \n",
        "  \u2571    2       2         2       2             \u2571           1                  \n",
        "\u2572\u2571  sin (\u03c6)\u22c5cos (\u0398) + cos (\u0398)\u22c5cos (\u03c6) - 1 \u22c5   \u2571  \u2500\u2500\u2500\u2500\u2500\u2500\u2500\u2500\u2500\u2500\u2500\u2500\u2500\u2500\u2500\u2500\u2500\u2500\u2500\u2500\u2500 \u22c5sin(\u03c6)\n",
        "                                             \u2571        2       2               \n",
        "                                           \u2572\u2571    - cos (\u0398)\u22c5cos (\u03c6) + 1        \n",
        "\u2500\u2500\u2500\u2500\u2500\u2500\u2500\u2500\u2500\u2500\u2500\u2500\u2500\u2500\u2500\u2500\u2500\u2500\u2500\u2500\u2500\u2500\u2500\u2500\u2500\u2500\u2500\u2500\u2500\u2500\u2500\u2500\u2500\u2500\u2500\u2500\u2500\u2500\u2500\u2500\u2500\u2500\u2500\u2500\u2500\u2500\u2500\u2500\u2500\u2500\u2500\u2500\u2500\u2500\u2500\u2500\u2500\u2500\u2500\u2500\u2500\u2500\u2500\u2500\u2500\u2500\u2500\u2500\u2500\u2500\u2500\u2500\u2500\u2500\u2500\u2500\u2500\u2500\n",
        "              2                                                               \n",
        "\u0398)\u22c5cos(\u03c6) - 1)                                                                \n",
        "\n",
        "       \n",
        "       \n",
        "\u22c5cos(\u0398)\n",
        "       \n",
        "       \n",
        "\u2500\u2500\u2500\u2500\u2500\u2500\u2500\n",
        "       \n",
        "       "
       ]
      }
     ],
     "prompt_number": 14
    },
    {
     "cell_type": "code",
     "collapsed": false,
     "input": [
      "factor(vector_E_out().dot(vector_E_out()))"
     ],
     "language": "python",
     "metadata": {},
     "outputs": [
      {
       "latex": [
        "$$- \\frac{E_{prime}^{2} r_{e}^{2} \\left(\\beta -1\\right) \\left(\\beta + 1\\right) \\left(\\beta^{2} \\operatorname{sin}^{2}\\left(\\phi\\right) \\operatorname{cos}^{2}\\left(\\Theta\\right) + \\beta^{2} \\operatorname{cos}^{2}\\left(\\Theta\\right) \\operatorname{cos}^{2}\\left(\\phi\\right) - 2 \\beta \\operatorname{cos}\\left(\\Theta\\right) \\operatorname{cos}\\left(\\phi\\right) - \\operatorname{sin}^{2}\\left(\\phi\\right) \\operatorname{cos}^{2}\\left(\\Theta\\right) + 1\\right)}{\\left(\\beta \\operatorname{cos}\\left(\\Theta\\right) \\operatorname{cos}\\left(\\phi\\right) -1\\right)^{4}}$$"
       ],
       "metadata": {},
       "output_type": "pyout",
       "png": "[encoded data removed]",
       "prompt_number": 15,
       "text": [
        "\n",
        "        2   2                 \u239b 2    2       2       2    2       2           \n",
        "-E_prime \u22c5r\u2091 \u22c5(\u03b2 - 1)\u22c5(\u03b2 + 1)\u22c5\u239d\u03b2 \u22c5sin (\u03c6)\u22c5cos (\u0398) + \u03b2 \u22c5cos (\u0398)\u22c5cos (\u03c6) - 2\u22c5\u03b2\u22c5c\n",
        "\u2500\u2500\u2500\u2500\u2500\u2500\u2500\u2500\u2500\u2500\u2500\u2500\u2500\u2500\u2500\u2500\u2500\u2500\u2500\u2500\u2500\u2500\u2500\u2500\u2500\u2500\u2500\u2500\u2500\u2500\u2500\u2500\u2500\u2500\u2500\u2500\u2500\u2500\u2500\u2500\u2500\u2500\u2500\u2500\u2500\u2500\u2500\u2500\u2500\u2500\u2500\u2500\u2500\u2500\u2500\u2500\u2500\u2500\u2500\u2500\u2500\u2500\u2500\u2500\u2500\u2500\u2500\u2500\u2500\u2500\u2500\u2500\u2500\u2500\u2500\u2500\u2500\u2500\n",
        "                                                                   4          \n",
        "                                              (\u03b2\u22c5cos(\u0398)\u22c5cos(\u03c6) - 1)           \n",
        "\n",
        "                  2       2       \u239e\n",
        "os(\u0398)\u22c5cos(\u03c6) - sin (\u03c6)\u22c5cos (\u0398) + 1\u23a0\n",
        "\u2500\u2500\u2500\u2500\u2500\u2500\u2500\u2500\u2500\u2500\u2500\u2500\u2500\u2500\u2500\u2500\u2500\u2500\u2500\u2500\u2500\u2500\u2500\u2500\u2500\u2500\u2500\u2500\u2500\u2500\u2500\u2500\u2500\u2500\u2500\n",
        "                                   \n",
        "                                   "
       ]
      }
     ],
     "prompt_number": 15
    },
    {
     "cell_type": "code",
     "collapsed": false,
     "input": [
      "#Below is the canonical calculation of electrodynamics\n",
      "canonical_vector_E_out = lambda : vector_n().cross((vector_n() - beta * vector_x).cross(vector_epsilon_prime_in)) / (S(1) - beta * vector_x.dot(vector_n()))**2"
     ],
     "language": "python",
     "metadata": {},
     "outputs": [],
     "prompt_number": 16
    },
    {
     "cell_type": "code",
     "collapsed": false,
     "input": [
      "factor_vector(canonical_vector_E_out())"
     ],
     "language": "python",
     "metadata": {},
     "outputs": [
      {
       "latex": [
        "$$\\left(\\begin{smallmatrix}\\frac{\\left(\\beta - \\operatorname{cos}\\left(\\Theta\\right) \\operatorname{cos}\\left(\\phi\\right)\\right) \\operatorname{sin}\\left(\\phi\\right) \\operatorname{cos}\\left(\\Theta\\right)}{\\left(\\beta \\operatorname{cos}\\left(\\Theta\\right) \\operatorname{cos}\\left(\\phi\\right) -1\\right)^{2}} & - \\frac{\\beta \\operatorname{cos}\\left(\\Theta\\right) \\operatorname{cos}\\left(\\phi\\right) + \\operatorname{sin}^{2}\\left(\\phi\\right) \\operatorname{cos}^{2}\\left(\\Theta\\right) -1}{\\left(\\beta \\operatorname{cos}\\left(\\Theta\\right) \\operatorname{cos}\\left(\\phi\\right) -1\\right)^{2}} & \\frac{\\sqrt{\\operatorname{cos}\\left(\\Theta\\right) \\operatorname{cos}\\left(\\phi\\right) -1} \\sqrt{\\operatorname{cos}\\left(\\Theta\\right) \\operatorname{cos}\\left(\\phi\\right) + 1} \\sqrt{\\operatorname{sin}^{2}\\left(\\phi\\right) \\operatorname{cos}^{2}\\left(\\Theta\\right) + \\operatorname{cos}^{2}\\left(\\Theta\\right) \\operatorname{cos}^{2}\\left(\\phi\\right) -1} \\sqrt{\\frac{1}{- \\operatorname{cos}^{2}\\left(\\Theta\\right) \\operatorname{cos}^{2}\\left(\\phi\\right) + 1}} \\operatorname{sin}\\left(\\phi\\right) \\operatorname{cos}\\left(\\Theta\\right)}{\\left(\\beta \\operatorname{cos}\\left(\\Theta\\right) \\operatorname{cos}\\left(\\phi\\right) -1\\right)^{2}}\\end{smallmatrix}\\right)$$"
       ],
       "metadata": {},
       "output_type": "pyout",
       "png": "[encoded data removed]",
       "prompt_number": 17,
       "text": [
        "\n",
        "\u23a1                                                                             \n",
        "\u23a2                                                                             \n",
        "\u23a2                                                                             \n",
        "\u23a2                                    \u239b                     2       2       \u239e  \n",
        "\u23a2(\u03b2 - cos(\u0398)\u22c5cos(\u03c6))\u22c5sin(\u03c6)\u22c5cos(\u0398)  -\u239d\u03b2\u22c5cos(\u0398)\u22c5cos(\u03c6) + sin (\u03c6)\u22c5cos (\u0398) - 1\u23a0  \n",
        "\u23a2\u2500\u2500\u2500\u2500\u2500\u2500\u2500\u2500\u2500\u2500\u2500\u2500\u2500\u2500\u2500\u2500\u2500\u2500\u2500\u2500\u2500\u2500\u2500\u2500\u2500\u2500\u2500\u2500\u2500\u2500\u2500\u2500\u2500  \u2500\u2500\u2500\u2500\u2500\u2500\u2500\u2500\u2500\u2500\u2500\u2500\u2500\u2500\u2500\u2500\u2500\u2500\u2500\u2500\u2500\u2500\u2500\u2500\u2500\u2500\u2500\u2500\u2500\u2500\u2500\u2500\u2500\u2500\u2500\u2500\u2500\u2500\u2500\u2500  \n",
        "\u23a2                           2                                     2           \n",
        "\u23a3      (\u03b2\u22c5cos(\u0398)\u22c5cos(\u03c6) - 1)                 (\u03b2\u22c5cos(\u0398)\u22c5cos(\u03c6) - 1)            \n",
        "\n",
        "                                               \u23bd\u23bd\u23bd\u23bd\u23bd\u23bd\u23bd\u23bd\u23bd\u23bd\u23bd\u23bd\u23bd\u23bd\u23bd\u23bd\u23bd\u23bd\u23bd\u23bd\u23bd\u23bd\u23bd\u23bd\u23bd\u23bd\u23bd\u23bd\u23bd\u23bd\u23bd\n",
        "  \u23bd\u23bd\u23bd\u23bd\u23bd\u23bd\u23bd\u23bd\u23bd\u23bd\u23bd\u23bd\u23bd\u23bd\u23bd\u23bd\u23bd\u23bd\u23bd   \u23bd\u23bd\u23bd\u23bd\u23bd\u23bd\u23bd\u23bd\u23bd\u23bd\u23bd\u23bd\u23bd\u23bd\u23bd\u23bd\u23bd\u23bd\u23bd   \u2571    2       2         2       2\n",
        "\u2572\u2571 cos(\u0398)\u22c5cos(\u03c6) - 1 \u22c5\u2572\u2571 cos(\u0398)\u22c5cos(\u03c6) + 1 \u22c5\u2572\u2571  sin (\u03c6)\u22c5cos (\u0398) + cos (\u0398)\u22c5cos \n",
        "                                                                              \n",
        "                                                                              \n",
        "\u2500\u2500\u2500\u2500\u2500\u2500\u2500\u2500\u2500\u2500\u2500\u2500\u2500\u2500\u2500\u2500\u2500\u2500\u2500\u2500\u2500\u2500\u2500\u2500\u2500\u2500\u2500\u2500\u2500\u2500\u2500\u2500\u2500\u2500\u2500\u2500\u2500\u2500\u2500\u2500\u2500\u2500\u2500\u2500\u2500\u2500\u2500\u2500\u2500\u2500\u2500\u2500\u2500\u2500\u2500\u2500\u2500\u2500\u2500\u2500\u2500\u2500\u2500\u2500\u2500\u2500\u2500\u2500\u2500\u2500\u2500\u2500\u2500\u2500\u2500\u2500\u2500\u2500\n",
        "                                                                           2  \n",
        "                                                      (\u03b2\u22c5cos(\u0398)\u22c5cos(\u03c6) - 1)   \n",
        "\n",
        "\u23bd\u23bd\u23bd\u23bd\u23bd\u23bd\u23bd\u23bd      \u23bd\u23bd\u23bd\u23bd\u23bd\u23bd\u23bd\u23bd\u23bd\u23bd\u23bd\u23bd\u23bd\u23bd\u23bd\u23bd\u23bd\u23bd\u23bd\u23bd\u23bd\u23bd\u23bd              \u23a4\n",
        "             \u2571           1                         \u23a5\n",
        "(\u03c6) - 1 \u22c5   \u2571  \u2500\u2500\u2500\u2500\u2500\u2500\u2500\u2500\u2500\u2500\u2500\u2500\u2500\u2500\u2500\u2500\u2500\u2500\u2500\u2500\u2500 \u22c5sin(\u03c6)\u22c5cos(\u0398)\u23a5\n",
        "           \u2571        2       2                      \u23a5\n",
        "         \u2572\u2571    - cos (\u0398)\u22c5cos (\u03c6) + 1               \u23a5\n",
        "\u2500\u2500\u2500\u2500\u2500\u2500\u2500\u2500\u2500\u2500\u2500\u2500\u2500\u2500\u2500\u2500\u2500\u2500\u2500\u2500\u2500\u2500\u2500\u2500\u2500\u2500\u2500\u2500\u2500\u2500\u2500\u2500\u2500\u2500\u2500\u2500\u2500\u2500\u2500\u2500\u2500\u2500\u2500\u2500\u2500\u2500\u2500\u2500\u2500\u2500\u2500\u23a5\n",
        "                                                   \u23a5\n",
        "                                                   \u23a6"
       ]
      }
     ],
     "prompt_number": 17
    },
    {
     "cell_type": "code",
     "collapsed": false,
     "input": [
      "factor(canonical_vector_E_out()[0])"
     ],
     "language": "python",
     "metadata": {},
     "outputs": [
      {
       "latex": [
        "$$\\frac{\\left(\\beta - \\operatorname{cos}\\left(\\Theta\\right) \\operatorname{cos}\\left(\\phi\\right)\\right) \\operatorname{sin}\\left(\\phi\\right) \\operatorname{cos}\\left(\\Theta\\right)}{\\left(\\beta \\operatorname{cos}\\left(\\Theta\\right) \\operatorname{cos}\\left(\\phi\\right) -1\\right)^{2}}$$"
       ],
       "metadata": {},
       "output_type": "pyout",
       "png": "[encoded data removed]",
       "prompt_number": 18,
       "text": [
        "\n",
        "(\u03b2 - cos(\u0398)\u22c5cos(\u03c6))\u22c5sin(\u03c6)\u22c5cos(\u0398)\n",
        "\u2500\u2500\u2500\u2500\u2500\u2500\u2500\u2500\u2500\u2500\u2500\u2500\u2500\u2500\u2500\u2500\u2500\u2500\u2500\u2500\u2500\u2500\u2500\u2500\u2500\u2500\u2500\u2500\u2500\u2500\u2500\u2500\u2500\n",
        "                           2     \n",
        "      (\u03b2\u22c5cos(\u0398)\u22c5cos(\u03c6) - 1)      "
       ]
      }
     ],
     "prompt_number": 18
    },
    {
     "cell_type": "code",
     "collapsed": false,
     "input": [
      "factor(canonical_vector_E_out()[1])"
     ],
     "language": "python",
     "metadata": {},
     "outputs": [
      {
       "latex": [
        "$$- \\frac{\\beta \\operatorname{cos}\\left(\\Theta\\right) \\operatorname{cos}\\left(\\phi\\right) + \\operatorname{sin}^{2}\\left(\\phi\\right) \\operatorname{cos}^{2}\\left(\\Theta\\right) -1}{\\left(\\beta \\operatorname{cos}\\left(\\Theta\\right) \\operatorname{cos}\\left(\\phi\\right) -1\\right)^{2}}$$"
       ],
       "metadata": {},
       "output_type": "pyout",
       "png": "[encoded data removed]",
       "prompt_number": 19,
       "text": [
        "\n",
        " \u239b                     2       2       \u239e\n",
        "-\u239d\u03b2\u22c5cos(\u0398)\u22c5cos(\u03c6) + sin (\u03c6)\u22c5cos (\u0398) - 1\u23a0\n",
        "\u2500\u2500\u2500\u2500\u2500\u2500\u2500\u2500\u2500\u2500\u2500\u2500\u2500\u2500\u2500\u2500\u2500\u2500\u2500\u2500\u2500\u2500\u2500\u2500\u2500\u2500\u2500\u2500\u2500\u2500\u2500\u2500\u2500\u2500\u2500\u2500\u2500\u2500\u2500\u2500\n",
        "                              2         \n",
        "         (\u03b2\u22c5cos(\u0398)\u22c5cos(\u03c6) - 1)          "
       ]
      }
     ],
     "prompt_number": 19
    },
    {
     "cell_type": "code",
     "collapsed": false,
     "input": [
      "factor(canonical_vector_E_out()[2])"
     ],
     "language": "python",
     "metadata": {},
     "outputs": [
      {
       "latex": [
        "$$\\frac{\\sqrt{\\operatorname{cos}\\left(\\Theta\\right) \\operatorname{cos}\\left(\\phi\\right) -1} \\sqrt{\\operatorname{cos}\\left(\\Theta\\right) \\operatorname{cos}\\left(\\phi\\right) + 1} \\sqrt{\\operatorname{sin}^{2}\\left(\\phi\\right) \\operatorname{cos}^{2}\\left(\\Theta\\right) + \\operatorname{cos}^{2}\\left(\\Theta\\right) \\operatorname{cos}^{2}\\left(\\phi\\right) -1} \\sqrt{\\frac{1}{- \\operatorname{cos}^{2}\\left(\\Theta\\right) \\operatorname{cos}^{2}\\left(\\phi\\right) + 1}} \\operatorname{sin}\\left(\\phi\\right) \\operatorname{cos}\\left(\\Theta\\right)}{\\left(\\beta \\operatorname{cos}\\left(\\Theta\\right) \\operatorname{cos}\\left(\\phi\\right) -1\\right)^{2}}$$"
       ],
       "metadata": {},
       "output_type": "pyout",
       "png": "[encoded data removed]",
       "prompt_number": 20,
       "text": [
        "\n",
        "                                               \u23bd\u23bd\u23bd\u23bd\u23bd\u23bd\u23bd\u23bd\u23bd\u23bd\u23bd\u23bd\u23bd\u23bd\u23bd\u23bd\u23bd\u23bd\u23bd\u23bd\u23bd\u23bd\u23bd\u23bd\u23bd\u23bd\u23bd\u23bd\u23bd\u23bd\u23bd\n",
        "  \u23bd\u23bd\u23bd\u23bd\u23bd\u23bd\u23bd\u23bd\u23bd\u23bd\u23bd\u23bd\u23bd\u23bd\u23bd\u23bd\u23bd\u23bd\u23bd   \u23bd\u23bd\u23bd\u23bd\u23bd\u23bd\u23bd\u23bd\u23bd\u23bd\u23bd\u23bd\u23bd\u23bd\u23bd\u23bd\u23bd\u23bd\u23bd   \u2571    2       2         2       2\n",
        "\u2572\u2571 cos(\u0398)\u22c5cos(\u03c6) - 1 \u22c5\u2572\u2571 cos(\u0398)\u22c5cos(\u03c6) + 1 \u22c5\u2572\u2571  sin (\u03c6)\u22c5cos (\u0398) + cos (\u0398)\u22c5cos \n",
        "                                                                              \n",
        "                                                                              \n",
        "\u2500\u2500\u2500\u2500\u2500\u2500\u2500\u2500\u2500\u2500\u2500\u2500\u2500\u2500\u2500\u2500\u2500\u2500\u2500\u2500\u2500\u2500\u2500\u2500\u2500\u2500\u2500\u2500\u2500\u2500\u2500\u2500\u2500\u2500\u2500\u2500\u2500\u2500\u2500\u2500\u2500\u2500\u2500\u2500\u2500\u2500\u2500\u2500\u2500\u2500\u2500\u2500\u2500\u2500\u2500\u2500\u2500\u2500\u2500\u2500\u2500\u2500\u2500\u2500\u2500\u2500\u2500\u2500\u2500\u2500\u2500\u2500\u2500\u2500\u2500\u2500\u2500\u2500\n",
        "                                                                           2  \n",
        "                                                      (\u03b2\u22c5cos(\u0398)\u22c5cos(\u03c6) - 1)   \n",
        "\n",
        "\u23bd\u23bd\u23bd\u23bd\u23bd\u23bd\u23bd\u23bd      \u23bd\u23bd\u23bd\u23bd\u23bd\u23bd\u23bd\u23bd\u23bd\u23bd\u23bd\u23bd\u23bd\u23bd\u23bd\u23bd\u23bd\u23bd\u23bd\u23bd\u23bd\u23bd\u23bd              \n",
        "             \u2571           1                         \n",
        "(\u03c6) - 1 \u22c5   \u2571  \u2500\u2500\u2500\u2500\u2500\u2500\u2500\u2500\u2500\u2500\u2500\u2500\u2500\u2500\u2500\u2500\u2500\u2500\u2500\u2500\u2500 \u22c5sin(\u03c6)\u22c5cos(\u0398)\n",
        "           \u2571        2       2                      \n",
        "         \u2572\u2571    - cos (\u0398)\u22c5cos (\u03c6) + 1               \n",
        "\u2500\u2500\u2500\u2500\u2500\u2500\u2500\u2500\u2500\u2500\u2500\u2500\u2500\u2500\u2500\u2500\u2500\u2500\u2500\u2500\u2500\u2500\u2500\u2500\u2500\u2500\u2500\u2500\u2500\u2500\u2500\u2500\u2500\u2500\u2500\u2500\u2500\u2500\u2500\u2500\u2500\u2500\u2500\u2500\u2500\u2500\u2500\u2500\u2500\u2500\u2500\n",
        "                                                   \n",
        "                                                   "
       ]
      }
     ],
     "prompt_number": 20
    },
    {
     "cell_type": "code",
     "collapsed": false,
     "input": [
      "factor(canonical_vector_E_out().dot(canonical_vector_E_out()))"
     ],
     "language": "python",
     "metadata": {},
     "outputs": [
      {
       "latex": [
        "$$\\frac{\\beta^{2} \\operatorname{sin}^{2}\\left(\\phi\\right) \\operatorname{cos}^{2}\\left(\\Theta\\right) + \\beta^{2} \\operatorname{cos}^{2}\\left(\\Theta\\right) \\operatorname{cos}^{2}\\left(\\phi\\right) - 2 \\beta \\operatorname{cos}\\left(\\Theta\\right) \\operatorname{cos}\\left(\\phi\\right) - \\operatorname{sin}^{2}\\left(\\phi\\right) \\operatorname{cos}^{2}\\left(\\Theta\\right) + 1}{\\left(\\beta \\operatorname{cos}\\left(\\Theta\\right) \\operatorname{cos}\\left(\\phi\\right) -1\\right)^{4}}$$"
       ],
       "metadata": {},
       "output_type": "pyout",
       "png": "[encoded data removed]",
       "prompt_number": 21,
       "text": [
        "\n",
        " 2    2       2       2    2       2                             2       2    \n",
        "\u03b2 \u22c5sin (\u03c6)\u22c5cos (\u0398) + \u03b2 \u22c5cos (\u0398)\u22c5cos (\u03c6) - 2\u22c5\u03b2\u22c5cos(\u0398)\u22c5cos(\u03c6) - sin (\u03c6)\u22c5cos (\u0398) \n",
        "\u2500\u2500\u2500\u2500\u2500\u2500\u2500\u2500\u2500\u2500\u2500\u2500\u2500\u2500\u2500\u2500\u2500\u2500\u2500\u2500\u2500\u2500\u2500\u2500\u2500\u2500\u2500\u2500\u2500\u2500\u2500\u2500\u2500\u2500\u2500\u2500\u2500\u2500\u2500\u2500\u2500\u2500\u2500\u2500\u2500\u2500\u2500\u2500\u2500\u2500\u2500\u2500\u2500\u2500\u2500\u2500\u2500\u2500\u2500\u2500\u2500\u2500\u2500\u2500\u2500\u2500\u2500\u2500\u2500\u2500\u2500\u2500\u2500\u2500\u2500\u2500\u2500\u2500\n",
        "                                                   4                          \n",
        "                              (\u03b2\u22c5cos(\u0398)\u22c5cos(\u03c6) - 1)                           \n",
        "\n",
        "   \n",
        "+ 1\n",
        "\u2500\u2500\u2500\n",
        "   \n",
        "   "
       ]
      }
     ],
     "prompt_number": 21
    },
    {
     "cell_type": "code",
     "collapsed": false,
     "input": [
      "factor_vector(vector_E_out()) == factor_vector(-E_prime * r_e / gamma * canonical_vector_E_out())"
     ],
     "language": "python",
     "metadata": {},
     "outputs": [
      {
       "metadata": {},
       "output_type": "pyout",
       "png": "[encoded data removed]",
       "prompt_number": 36,
       "text": [
        "True"
       ]
      }
     ],
     "prompt_number": 36
    },
    {
     "cell_type": "code",
     "collapsed": false,
     "input": [
      "factor(vector_E_out().dot(vector_E_out())) == factor(E_prime**2 * r_e**2 / gamma**2 * canonical_vector_E_out().dot(canonical_vector_E_out()))"
     ],
     "language": "python",
     "metadata": {},
     "outputs": [
      {
       "metadata": {},
       "output_type": "pyout",
       "png": "[encoded data removed]",
       "prompt_number": 37,
       "text": [
        "True"
       ]
      }
     ],
     "prompt_number": 37
    },
    {
     "cell_type": "code",
     "collapsed": false,
     "input": [],
     "language": "python",
     "metadata": {},
     "outputs": []
    }
   ],
   "metadata": {}
  }
 ]
}